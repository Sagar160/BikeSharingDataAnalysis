{
 "cells": [
  {
   "cell_type": "markdown",
   "id": "e56174e0",
   "metadata": {},
   "source": [
    "# Imports "
   ]
  },
  {
   "cell_type": "code",
   "execution_count": 184,
   "id": "1cf50672",
   "metadata": {},
   "outputs": [],
   "source": [
    "import pandas as pd\n",
    "import numpy as np\n",
    "import math\n",
    "from sklearn import preprocessing\n",
    "from scipy import stats\n",
    "import matplotlib.pyplot as plt\n",
    "import seaborn as sns\n",
    "from scipy import stats\n",
    "from scipy.stats import chi2_contingency"
   ]
  },
  {
   "cell_type": "markdown",
   "id": "7bd66135",
   "metadata": {},
   "source": [
    "# Path"
   ]
  },
  {
   "cell_type": "code",
   "execution_count": 2,
   "id": "c5e5e78f",
   "metadata": {},
   "outputs": [],
   "source": [
    "input_path = './data/project/bikes.data'"
   ]
  },
  {
   "cell_type": "markdown",
   "id": "e0244b93",
   "metadata": {},
   "source": [
    "# Data preparation"
   ]
  },
  {
   "cell_type": "markdown",
   "id": "08fc49a1",
   "metadata": {},
   "source": [
    "## Load Data"
   ]
  },
  {
   "cell_type": "code",
   "execution_count": 3,
   "id": "ffb312a4",
   "metadata": {},
   "outputs": [],
   "source": [
    "df = pd.read_csv(input_path)"
   ]
  },
  {
   "cell_type": "markdown",
   "id": "b2124495",
   "metadata": {},
   "source": [
    "## Check Variables Type"
   ]
  },
  {
   "cell_type": "markdown",
   "id": "54c441b6",
   "metadata": {},
   "source": [
    "Load the data from the file bikes.data. Check that the variables match the documentation above.\n",
    "\n",
    "\n",
    "| Variable | Description |\n",
    "| --- | --- |\n",
    "| `ticket` | ticket type |\n",
    "| `cost` | paid fee in euros |\n",
    "| `month` | calendar month during which the trip was made |\n",
    "| `location_from` | start location of the trip |\n",
    "| `location_to` | end location of the trip |\n",
    "| `duration` | travel time in seconds |\n",
    "| `distance` | travel distance in meters |\n",
    "| `assistance` | status of electric assistance (0 = disabled, 1 = enabled) |\n",
    "| `energy_used` | energy consumed by the bike in watt-hours |\n",
    "| `energy_collected` | energy collected by the bike in watt-hours |"
   ]
  },
  {
   "cell_type": "markdown",
   "id": "0879b544",
   "metadata": {},
   "source": [
    "### Ticket"
   ]
  },
  {
   "cell_type": "markdown",
   "id": "ea29a9b4",
   "metadata": {},
   "source": [
    "`Ticket is a categorical variable and only has three distinct ticket types. Variable match with the documentation.`"
   ]
  },
  {
   "cell_type": "markdown",
   "id": "7bc35758",
   "metadata": {},
   "source": [
    "Value Counts"
   ]
  },
  {
   "cell_type": "code",
   "execution_count": 4,
   "id": "d5aaa6c7",
   "metadata": {},
   "outputs": [
    {
     "data": {
      "text/plain": [
       "ticket\n",
       "single     967\n",
       "season     553\n",
       "savonia    254\n",
       "Name: count, dtype: int64"
      ]
     },
     "execution_count": 4,
     "metadata": {},
     "output_type": "execute_result"
    }
   ],
   "source": [
    "df['ticket'].value_counts()"
   ]
  },
  {
   "cell_type": "markdown",
   "id": "636e583d",
   "metadata": {},
   "source": [
    "Describe"
   ]
  },
  {
   "cell_type": "code",
   "execution_count": 5,
   "id": "ca18284c",
   "metadata": {},
   "outputs": [
    {
     "data": {
      "text/plain": [
       "count       1774\n",
       "unique         3\n",
       "top       single\n",
       "freq         967\n",
       "Name: ticket, dtype: object"
      ]
     },
     "execution_count": 5,
     "metadata": {},
     "output_type": "execute_result"
    }
   ],
   "source": [
    "df['ticket'].describe()"
   ]
  },
  {
   "cell_type": "markdown",
   "id": "b1c7c47a",
   "metadata": {},
   "source": [
    "### Cost"
   ]
  },
  {
   "cell_type": "markdown",
   "id": "f394ca95",
   "metadata": {},
   "source": [
    "`Cost is a variable value ranging from 0 to 100 euros. Most of the values of this variable (paid fee) are near zero. Cost match with the documentation.`"
   ]
  },
  {
   "cell_type": "markdown",
   "id": "28bff183",
   "metadata": {},
   "source": [
    "Describe"
   ]
  },
  {
   "cell_type": "code",
   "execution_count": 5,
   "id": "4e30636e",
   "metadata": {},
   "outputs": [
    {
     "data": {
      "text/plain": [
       "count    1774.000000\n",
       "mean        0.491234\n",
       "std         4.127344\n",
       "min         0.000000\n",
       "25%         0.000000\n",
       "50%         0.050000\n",
       "75%         0.550000\n",
       "max       100.000000\n",
       "Name: cost, dtype: float64"
      ]
     },
     "execution_count": 5,
     "metadata": {},
     "output_type": "execute_result"
    }
   ],
   "source": [
    "df.cost.describe()"
   ]
  },
  {
   "cell_type": "markdown",
   "id": "d05950fc",
   "metadata": {},
   "source": [
    "Type"
   ]
  },
  {
   "cell_type": "code",
   "execution_count": 6,
   "id": "b71cf673",
   "metadata": {},
   "outputs": [
    {
     "data": {
      "text/plain": [
       "dtype('float64')"
      ]
     },
     "execution_count": 6,
     "metadata": {},
     "output_type": "execute_result"
    }
   ],
   "source": [
    "df.cost.dtypes"
   ]
  },
  {
   "cell_type": "markdown",
   "id": "0ae16d37",
   "metadata": {},
   "source": [
    "Min and Max"
   ]
  },
  {
   "cell_type": "code",
   "execution_count": 7,
   "id": "10cc438d",
   "metadata": {},
   "outputs": [
    {
     "data": {
      "text/plain": [
       "(0.0, 100.0)"
      ]
     },
     "execution_count": 7,
     "metadata": {},
     "output_type": "execute_result"
    }
   ],
   "source": [
    "df.cost.min(), df.cost.max()"
   ]
  },
  {
   "cell_type": "markdown",
   "id": "cfbc72e2",
   "metadata": {},
   "source": [
    "Maximum number of occurance Cost variable value"
   ]
  },
  {
   "cell_type": "code",
   "execution_count": 41,
   "id": "8192efec",
   "metadata": {},
   "outputs": [
    {
     "data": {
      "text/plain": [
       "cost       0.0\n",
       "count    800.0\n",
       "Name: 0, dtype: float64"
      ]
     },
     "execution_count": 41,
     "metadata": {},
     "output_type": "execute_result"
    }
   ],
   "source": [
    "df['cost'].value_counts().reset_index().loc[0]"
   ]
  },
  {
   "cell_type": "markdown",
   "id": "53a92bc7",
   "metadata": {},
   "source": [
    "### Month"
   ]
  },
  {
   "cell_type": "markdown",
   "id": "335da036",
   "metadata": {},
   "source": [
    "`Month variable values range from 4 to 10. The month is also an integer. The month matches the documentation.`"
   ]
  },
  {
   "cell_type": "markdown",
   "id": "479255aa",
   "metadata": {},
   "source": [
    "Type"
   ]
  },
  {
   "cell_type": "code",
   "execution_count": 11,
   "id": "1b2b7d91",
   "metadata": {},
   "outputs": [
    {
     "data": {
      "text/plain": [
       "dtype('int64')"
      ]
     },
     "execution_count": 11,
     "metadata": {},
     "output_type": "execute_result"
    }
   ],
   "source": [
    "df.month.dtype"
   ]
  },
  {
   "cell_type": "markdown",
   "id": "49440467",
   "metadata": {},
   "source": [
    "Describe"
   ]
  },
  {
   "cell_type": "code",
   "execution_count": 42,
   "id": "e94ec0eb",
   "metadata": {},
   "outputs": [
    {
     "data": {
      "text/plain": [
       "count    1774.000000\n",
       "mean        7.233371\n",
       "std         1.720351\n",
       "min         4.000000\n",
       "25%         6.000000\n",
       "50%         7.000000\n",
       "75%         9.000000\n",
       "max        10.000000\n",
       "Name: month, dtype: float64"
      ]
     },
     "execution_count": 42,
     "metadata": {},
     "output_type": "execute_result"
    }
   ],
   "source": [
    "df.month.describe()"
   ]
  },
  {
   "cell_type": "markdown",
   "id": "25e0e8e1",
   "metadata": {},
   "source": [
    "Value Counts"
   ]
  },
  {
   "cell_type": "code",
   "execution_count": 43,
   "id": "a59c4496",
   "metadata": {},
   "outputs": [
    {
     "data": {
      "text/plain": [
       "month\n",
       "6     355\n",
       "7     355\n",
       "5     298\n",
       "9     277\n",
       "10    237\n",
       "8     214\n",
       "4      38\n",
       "Name: count, dtype: int64"
      ]
     },
     "execution_count": 43,
     "metadata": {},
     "output_type": "execute_result"
    }
   ],
   "source": [
    "df.month.value_counts()"
   ]
  },
  {
   "cell_type": "markdown",
   "id": "d368771e",
   "metadata": {},
   "source": [
    "### Location From"
   ]
  },
  {
   "cell_type": "markdown",
   "id": "9f959246",
   "metadata": {},
   "source": [
    "`Location from variable dtype is an object, but further checking all variable values are string. Variable only has 10 distinct values. Variable match with the documentation.`"
   ]
  },
  {
   "cell_type": "code",
   "execution_count": 44,
   "id": "dff925c9",
   "metadata": {},
   "outputs": [
    {
     "data": {
      "text/plain": [
       "dtype('O')"
      ]
     },
     "execution_count": 44,
     "metadata": {},
     "output_type": "execute_result"
    }
   ],
   "source": [
    "df.location_from.dtype"
   ]
  },
  {
   "cell_type": "markdown",
   "id": "6770424a",
   "metadata": {},
   "source": [
    "check variable value type"
   ]
  },
  {
   "cell_type": "code",
   "execution_count": 45,
   "id": "db10da34",
   "metadata": {},
   "outputs": [],
   "source": [
    "for val in df.location_from.values:\n",
    "    if not (type(val)==str):\n",
    "        print(f\"value type is differnt from string: {val}\")"
   ]
  },
  {
   "cell_type": "markdown",
   "id": "1cb96856",
   "metadata": {},
   "source": [
    "Describe"
   ]
  },
  {
   "cell_type": "code",
   "execution_count": 20,
   "id": "b7b90628",
   "metadata": {},
   "outputs": [
    {
     "data": {
      "text/plain": [
       "count     1774\n",
       "unique      10\n",
       "top       TORI\n",
       "freq       418\n",
       "Name: location_from, dtype: object"
      ]
     },
     "execution_count": 20,
     "metadata": {},
     "output_type": "execute_result"
    }
   ],
   "source": [
    "df.location_from.describe()"
   ]
  },
  {
   "cell_type": "code",
   "execution_count": 46,
   "id": "0636f3b7",
   "metadata": {},
   "outputs": [],
   "source": [
    "# df.location_from"
   ]
  },
  {
   "cell_type": "markdown",
   "id": "b1a29db2",
   "metadata": {},
   "source": [
    "Value Counts"
   ]
  },
  {
   "cell_type": "code",
   "execution_count": null,
   "id": "c3cb78e0",
   "metadata": {},
   "outputs": [],
   "source": [
    "df.location_from.value_counts()"
   ]
  },
  {
   "cell_type": "markdown",
   "id": "a05709a4",
   "metadata": {},
   "source": [
    "Unique Values"
   ]
  },
  {
   "cell_type": "code",
   "execution_count": 47,
   "id": "8b3daad4",
   "metadata": {},
   "outputs": [
    {
     "data": {
      "text/plain": [
       "10"
      ]
     },
     "execution_count": 47,
     "metadata": {},
     "output_type": "execute_result"
    }
   ],
   "source": [
    "df.location_from.nunique()"
   ]
  },
  {
   "cell_type": "markdown",
   "id": "22d0370f",
   "metadata": {},
   "source": [
    "### Location To"
   ]
  },
  {
   "cell_type": "markdown",
   "id": "48f1fd21",
   "metadata": {},
   "source": [
    "`Location to variable dtype is an object, but further checking all variable values are string. Variable only has 10 distinct values. Variable match with the documentation.`"
   ]
  },
  {
   "cell_type": "code",
   "execution_count": 48,
   "id": "b54dd873",
   "metadata": {},
   "outputs": [
    {
     "data": {
      "text/plain": [
       "dtype('O')"
      ]
     },
     "execution_count": 48,
     "metadata": {},
     "output_type": "execute_result"
    }
   ],
   "source": [
    "df.location_to.dtype"
   ]
  },
  {
   "cell_type": "markdown",
   "id": "fcd07a10",
   "metadata": {},
   "source": [
    "check veriable value type"
   ]
  },
  {
   "cell_type": "code",
   "execution_count": 49,
   "id": "2bb3c44c",
   "metadata": {},
   "outputs": [],
   "source": [
    "for val in df.location_from.values:\n",
    "    if not (type(val)==str):\n",
    "        print(f\"value type is differnt from string: {val}\")"
   ]
  },
  {
   "cell_type": "markdown",
   "id": "6d239f09",
   "metadata": {},
   "source": [
    "Describe"
   ]
  },
  {
   "cell_type": "code",
   "execution_count": 50,
   "id": "57e9074c",
   "metadata": {},
   "outputs": [
    {
     "data": {
      "text/plain": [
       "count     1774\n",
       "unique      10\n",
       "top       TORI\n",
       "freq       400\n",
       "Name: location_to, dtype: object"
      ]
     },
     "execution_count": 50,
     "metadata": {},
     "output_type": "execute_result"
    }
   ],
   "source": [
    "df.location_to.describe()"
   ]
  },
  {
   "cell_type": "markdown",
   "id": "44cacb04",
   "metadata": {},
   "source": [
    "Value Counts"
   ]
  },
  {
   "cell_type": "code",
   "execution_count": 51,
   "id": "c30af35f",
   "metadata": {},
   "outputs": [
    {
     "data": {
      "text/plain": [
       "location_to\n",
       "TORI              400\n",
       "KAUPPAKATU        287\n",
       "PUIJONLAAKSO      190\n",
       "MICROTEKNIA       176\n",
       "SATAMA            163\n",
       "TASAVALLANKATU    156\n",
       "NEULAMÄKI         155\n",
       "KEILANKANTA       142\n",
       "KYS                75\n",
       "PIRTTI             30\n",
       "Name: count, dtype: int64"
      ]
     },
     "execution_count": 51,
     "metadata": {},
     "output_type": "execute_result"
    }
   ],
   "source": [
    "df.location_to.value_counts()"
   ]
  },
  {
   "cell_type": "markdown",
   "id": "bb2396a7",
   "metadata": {},
   "source": [
    "Unique Values"
   ]
  },
  {
   "cell_type": "code",
   "execution_count": 53,
   "id": "d9e5634c",
   "metadata": {},
   "outputs": [
    {
     "data": {
      "text/plain": [
       "10"
      ]
     },
     "execution_count": 53,
     "metadata": {},
     "output_type": "execute_result"
    }
   ],
   "source": [
    "df.location_to.nunique()"
   ]
  },
  {
   "cell_type": "markdown",
   "id": "477810e9",
   "metadata": {},
   "source": [
    "### Duration"
   ]
  },
  {
   "cell_type": "markdown",
   "id": "680427a1",
   "metadata": {},
   "source": [
    "`Variable duration satisfies time requirements in seconds, despite being slightly unusual. It matches the documentation.`"
   ]
  },
  {
   "cell_type": "markdown",
   "id": "c468de19",
   "metadata": {},
   "source": [
    "`Unusual Behaviour (maybe outliers): minmum duration is 2 second and maximum duration is around 7 hr `"
   ]
  },
  {
   "cell_type": "markdown",
   "id": "27a912f5",
   "metadata": {},
   "source": [
    "Type"
   ]
  },
  {
   "cell_type": "code",
   "execution_count": 21,
   "id": "86682eed",
   "metadata": {
    "scrolled": true
   },
   "outputs": [
    {
     "data": {
      "text/plain": [
       "dtype('float64')"
      ]
     },
     "execution_count": 21,
     "metadata": {},
     "output_type": "execute_result"
    }
   ],
   "source": [
    "df.duration.dtype"
   ]
  },
  {
   "cell_type": "markdown",
   "id": "7ea8b876",
   "metadata": {},
   "source": [
    "Describe"
   ]
  },
  {
   "cell_type": "code",
   "execution_count": 54,
   "id": "dbc40f34",
   "metadata": {},
   "outputs": [
    {
     "data": {
      "text/plain": [
       "count     1774.000000\n",
       "mean       671.323563\n",
       "std       1141.708627\n",
       "min          2.000000\n",
       "25%        245.250000\n",
       "50%        546.500000\n",
       "75%        877.750000\n",
       "max      25614.000000\n",
       "Name: duration, dtype: float64"
      ]
     },
     "execution_count": 54,
     "metadata": {},
     "output_type": "execute_result"
    }
   ],
   "source": [
    "df.duration.describe()"
   ]
  },
  {
   "cell_type": "markdown",
   "id": "ead27725",
   "metadata": {},
   "source": [
    "Minimum Time"
   ]
  },
  {
   "cell_type": "code",
   "execution_count": 23,
   "id": "bfbf12a8",
   "metadata": {},
   "outputs": [
    {
     "data": {
      "text/plain": [
       "2.0"
      ]
     },
     "execution_count": 23,
     "metadata": {},
     "output_type": "execute_result"
    }
   ],
   "source": [
    "df.duration.min()"
   ]
  },
  {
   "cell_type": "markdown",
   "id": "f68101db",
   "metadata": {},
   "source": [
    "Maximum time in hr"
   ]
  },
  {
   "cell_type": "code",
   "execution_count": 55,
   "id": "b0c3f848",
   "metadata": {},
   "outputs": [
    {
     "data": {
      "text/plain": [
       "7.115"
      ]
     },
     "execution_count": 55,
     "metadata": {},
     "output_type": "execute_result"
    }
   ],
   "source": [
    "df.duration.max()/(60*60)"
   ]
  },
  {
   "cell_type": "markdown",
   "id": "c3276250",
   "metadata": {},
   "source": [
    "### Distance"
   ]
  },
  {
   "cell_type": "markdown",
   "id": "4de2a93b",
   "metadata": {},
   "source": [
    "`It is impossible for distance to be negative. The negativity may be due to direction or other error, but the variable does not match the documentation.`"
   ]
  },
  {
   "cell_type": "markdown",
   "id": "5f763c66",
   "metadata": {},
   "source": [
    "`Unusual Behaviour: minimum distance is negative and maximum diatnace is around 20 km`"
   ]
  },
  {
   "cell_type": "markdown",
   "id": "32846ebf",
   "metadata": {},
   "source": [
    "Type"
   ]
  },
  {
   "cell_type": "code",
   "execution_count": 57,
   "id": "d2507f5c",
   "metadata": {},
   "outputs": [
    {
     "data": {
      "text/plain": [
       "dtype('int64')"
      ]
     },
     "execution_count": 57,
     "metadata": {},
     "output_type": "execute_result"
    }
   ],
   "source": [
    "df.distance.dtype"
   ]
  },
  {
   "cell_type": "markdown",
   "id": "8035084f",
   "metadata": {},
   "source": [
    "Describe"
   ]
  },
  {
   "cell_type": "code",
   "execution_count": 58,
   "id": "b8292460",
   "metadata": {},
   "outputs": [
    {
     "data": {
      "text/plain": [
       "count     1774.000000\n",
       "mean      2460.067644\n",
       "std       2352.529305\n",
       "min      -3380.000000\n",
       "25%        910.000000\n",
       "50%       2030.000000\n",
       "75%       3605.000000\n",
       "max      20770.000000\n",
       "Name: distance, dtype: float64"
      ]
     },
     "execution_count": 58,
     "metadata": {},
     "output_type": "execute_result"
    }
   ],
   "source": [
    "df.distance.describe()"
   ]
  },
  {
   "cell_type": "markdown",
   "id": "72337ebb",
   "metadata": {},
   "source": [
    "Minimum Distance"
   ]
  },
  {
   "cell_type": "code",
   "execution_count": 62,
   "id": "2d7b26e6",
   "metadata": {},
   "outputs": [
    {
     "data": {
      "text/plain": [
       "-3380"
      ]
     },
     "execution_count": 62,
     "metadata": {},
     "output_type": "execute_result"
    }
   ],
   "source": [
    "df.distance.min()"
   ]
  },
  {
   "cell_type": "markdown",
   "id": "88566395",
   "metadata": {},
   "source": [
    "Maximum Distance in km"
   ]
  },
  {
   "cell_type": "code",
   "execution_count": 60,
   "id": "d85213f5",
   "metadata": {},
   "outputs": [
    {
     "data": {
      "text/plain": [
       "20.77"
      ]
     },
     "execution_count": 60,
     "metadata": {},
     "output_type": "execute_result"
    }
   ],
   "source": [
    "df.distance.max()/1000"
   ]
  },
  {
   "cell_type": "markdown",
   "id": "20f1b5f3",
   "metadata": {},
   "source": [
    "Total number of negative values"
   ]
  },
  {
   "cell_type": "code",
   "execution_count": 64,
   "id": "f18defb8",
   "metadata": {},
   "outputs": [
    {
     "data": {
      "text/plain": [
       "39"
      ]
     },
     "execution_count": 64,
     "metadata": {},
     "output_type": "execute_result"
    }
   ],
   "source": [
    "(df.distance<0).sum()"
   ]
  },
  {
   "cell_type": "markdown",
   "id": "0b5c7970",
   "metadata": {},
   "source": [
    "### Assistance"
   ]
  },
  {
   "cell_type": "markdown",
   "id": "7c73aa54",
   "metadata": {},
   "source": [
    "`The assistance variable has only two unique integer values. Assistance match with the documentation.`"
   ]
  },
  {
   "cell_type": "markdown",
   "id": "d47d85c1",
   "metadata": {},
   "source": [
    "Type"
   ]
  },
  {
   "cell_type": "code",
   "execution_count": 65,
   "id": "f84af682",
   "metadata": {},
   "outputs": [
    {
     "data": {
      "text/plain": [
       "dtype('int64')"
      ]
     },
     "execution_count": 65,
     "metadata": {},
     "output_type": "execute_result"
    }
   ],
   "source": [
    "df.assistance.dtype"
   ]
  },
  {
   "cell_type": "markdown",
   "id": "a549c913",
   "metadata": {},
   "source": [
    "Describe"
   ]
  },
  {
   "cell_type": "code",
   "execution_count": 67,
   "id": "97f9c478",
   "metadata": {},
   "outputs": [
    {
     "data": {
      "text/plain": [
       "count    1774.000000\n",
       "mean        0.916009\n",
       "std         0.277452\n",
       "min         0.000000\n",
       "25%         1.000000\n",
       "50%         1.000000\n",
       "75%         1.000000\n",
       "max         1.000000\n",
       "Name: assistance, dtype: float64"
      ]
     },
     "execution_count": 67,
     "metadata": {},
     "output_type": "execute_result"
    }
   ],
   "source": [
    "df.assistance.describe()"
   ]
  },
  {
   "cell_type": "markdown",
   "id": "4e0e8c08",
   "metadata": {},
   "source": [
    "Value Counts"
   ]
  },
  {
   "cell_type": "code",
   "execution_count": 68,
   "id": "fe02acd5",
   "metadata": {},
   "outputs": [
    {
     "data": {
      "text/plain": [
       "assistance\n",
       "1    1625\n",
       "0     149\n",
       "Name: count, dtype: int64"
      ]
     },
     "execution_count": 68,
     "metadata": {},
     "output_type": "execute_result"
    }
   ],
   "source": [
    "df.assistance.value_counts()"
   ]
  },
  {
   "cell_type": "markdown",
   "id": "e714fa5e",
   "metadata": {},
   "source": [
    "### Energy Used"
   ]
  },
  {
   "cell_type": "markdown",
   "id": "5358812b",
   "metadata": {},
   "source": [
    "`Energy used is a quantitative variable with a value range of 0 to 144. Energy used variable match with the documentation.`"
   ]
  },
  {
   "cell_type": "markdown",
   "id": "08e1ea09",
   "metadata": {},
   "source": [
    "Type"
   ]
  },
  {
   "cell_type": "code",
   "execution_count": 69,
   "id": "d062d9ff",
   "metadata": {},
   "outputs": [
    {
     "data": {
      "text/plain": [
       "dtype('float64')"
      ]
     },
     "execution_count": 69,
     "metadata": {},
     "output_type": "execute_result"
    }
   ],
   "source": [
    "df.energy_used.dtype"
   ]
  },
  {
   "cell_type": "markdown",
   "id": "57c6a856",
   "metadata": {},
   "source": [
    "Describe"
   ]
  },
  {
   "cell_type": "code",
   "execution_count": 70,
   "id": "219f20dc",
   "metadata": {},
   "outputs": [
    {
     "data": {
      "text/plain": [
       "count    1774.000000\n",
       "mean       17.399493\n",
       "std        17.194463\n",
       "min         0.000000\n",
       "25%         1.425000\n",
       "50%        14.350000\n",
       "75%        26.900000\n",
       "max       144.900000\n",
       "Name: energy_used, dtype: float64"
      ]
     },
     "execution_count": 70,
     "metadata": {},
     "output_type": "execute_result"
    }
   ],
   "source": [
    "df.energy_used.describe()"
   ]
  },
  {
   "cell_type": "markdown",
   "id": "a9cdff15",
   "metadata": {},
   "source": [
    "Minimum Value"
   ]
  },
  {
   "cell_type": "code",
   "execution_count": 71,
   "id": "9664b7b2",
   "metadata": {},
   "outputs": [
    {
     "data": {
      "text/plain": [
       "0.0"
      ]
     },
     "execution_count": 71,
     "metadata": {},
     "output_type": "execute_result"
    }
   ],
   "source": [
    "df.energy_used.min()"
   ]
  },
  {
   "cell_type": "markdown",
   "id": "19d4c987",
   "metadata": {},
   "source": [
    "Maximum Value"
   ]
  },
  {
   "cell_type": "code",
   "execution_count": 72,
   "id": "471514b2",
   "metadata": {},
   "outputs": [
    {
     "data": {
      "text/plain": [
       "144.9"
      ]
     },
     "execution_count": 72,
     "metadata": {},
     "output_type": "execute_result"
    }
   ],
   "source": [
    " df.energy_used.max()"
   ]
  },
  {
   "cell_type": "markdown",
   "id": "8b8a278b",
   "metadata": {},
   "source": [
    "### Energy Collected"
   ]
  },
  {
   "cell_type": "markdown",
   "id": "ac2879d9",
   "metadata": {},
   "source": [
    "`Energy collected variable is a quantitative variable with a value range of 0 to 56. Energy used variable match with the documentation.`"
   ]
  },
  {
   "cell_type": "markdown",
   "id": "15e023b7",
   "metadata": {},
   "source": [
    "Type"
   ]
  },
  {
   "cell_type": "code",
   "execution_count": 73,
   "id": "fcf48737",
   "metadata": {},
   "outputs": [
    {
     "data": {
      "text/plain": [
       "dtype('float64')"
      ]
     },
     "execution_count": 73,
     "metadata": {},
     "output_type": "execute_result"
    }
   ],
   "source": [
    "df.energy_collected.dtype"
   ]
  },
  {
   "cell_type": "markdown",
   "id": "67d1261a",
   "metadata": {},
   "source": [
    "Describe"
   ]
  },
  {
   "cell_type": "code",
   "execution_count": 74,
   "id": "e9c20c5b",
   "metadata": {},
   "outputs": [
    {
     "data": {
      "text/plain": [
       "count    1774.000000\n",
       "mean        5.639290\n",
       "std         6.379593\n",
       "min         0.000000\n",
       "25%         0.600000\n",
       "50%         3.900000\n",
       "75%         8.325000\n",
       "max        56.400000\n",
       "Name: energy_collected, dtype: float64"
      ]
     },
     "execution_count": 74,
     "metadata": {},
     "output_type": "execute_result"
    }
   ],
   "source": [
    "df.energy_collected.describe()"
   ]
  },
  {
   "cell_type": "markdown",
   "id": "cd8bcb06",
   "metadata": {},
   "source": [
    "Minimum Value"
   ]
  },
  {
   "cell_type": "code",
   "execution_count": 75,
   "id": "705dcd2f",
   "metadata": {},
   "outputs": [
    {
     "data": {
      "text/plain": [
       "0.0"
      ]
     },
     "execution_count": 75,
     "metadata": {},
     "output_type": "execute_result"
    }
   ],
   "source": [
    "df.energy_collected.min()"
   ]
  },
  {
   "cell_type": "markdown",
   "id": "bab3b708",
   "metadata": {},
   "source": [
    "Maximum Value"
   ]
  },
  {
   "cell_type": "code",
   "execution_count": 76,
   "id": "5acd3f17",
   "metadata": {},
   "outputs": [
    {
     "data": {
      "text/plain": [
       "56.4"
      ]
     },
     "execution_count": 76,
     "metadata": {},
     "output_type": "execute_result"
    }
   ],
   "source": [
    " df.energy_collected.max()"
   ]
  },
  {
   "cell_type": "markdown",
   "id": "067e9e8d",
   "metadata": {},
   "source": [
    "## Variable Exploaration"
   ]
  },
  {
   "cell_type": "markdown",
   "id": "35bb8329",
   "metadata": {},
   "source": [
    "Use both visualisations and numerical summaries to explore the variables. Filter out irrelevant records and process invalid values, if any. Explain why the records are irrelevant or the values invalid. Also explain how the modifications you made to the data fix the problems."
   ]
  },
  {
   "cell_type": "markdown",
   "id": "2d72d9bd",
   "metadata": {},
   "source": [
    "`I have explore numerial summaries in above section, Here I will more foucs on visual visualisations.`"
   ]
  },
  {
   "cell_type": "markdown",
   "id": "eab8a3f6",
   "metadata": {},
   "source": [
    "### All Plot"
   ]
  },
  {
   "cell_type": "markdown",
   "id": "a139bd25",
   "metadata": {},
   "source": [
    "`Plotted all possible plots with each other`"
   ]
  },
  {
   "cell_type": "code",
   "execution_count": 78,
   "id": "04899506",
   "metadata": {},
   "outputs": [
    {
     "data": {
      "text/plain": [
       "array([[<Axes: xlabel='cost', ylabel='cost'>,\n",
       "        <Axes: xlabel='month', ylabel='cost'>,\n",
       "        <Axes: xlabel='duration', ylabel='cost'>,\n",
       "        <Axes: xlabel='distance', ylabel='cost'>,\n",
       "        <Axes: xlabel='assistance', ylabel='cost'>,\n",
       "        <Axes: xlabel='energy_used', ylabel='cost'>,\n",
       "        <Axes: xlabel='energy_collected', ylabel='cost'>],\n",
       "       [<Axes: xlabel='cost', ylabel='month'>,\n",
       "        <Axes: xlabel='month', ylabel='month'>,\n",
       "        <Axes: xlabel='duration', ylabel='month'>,\n",
       "        <Axes: xlabel='distance', ylabel='month'>,\n",
       "        <Axes: xlabel='assistance', ylabel='month'>,\n",
       "        <Axes: xlabel='energy_used', ylabel='month'>,\n",
       "        <Axes: xlabel='energy_collected', ylabel='month'>],\n",
       "       [<Axes: xlabel='cost', ylabel='duration'>,\n",
       "        <Axes: xlabel='month', ylabel='duration'>,\n",
       "        <Axes: xlabel='duration', ylabel='duration'>,\n",
       "        <Axes: xlabel='distance', ylabel='duration'>,\n",
       "        <Axes: xlabel='assistance', ylabel='duration'>,\n",
       "        <Axes: xlabel='energy_used', ylabel='duration'>,\n",
       "        <Axes: xlabel='energy_collected', ylabel='duration'>],\n",
       "       [<Axes: xlabel='cost', ylabel='distance'>,\n",
       "        <Axes: xlabel='month', ylabel='distance'>,\n",
       "        <Axes: xlabel='duration', ylabel='distance'>,\n",
       "        <Axes: xlabel='distance', ylabel='distance'>,\n",
       "        <Axes: xlabel='assistance', ylabel='distance'>,\n",
       "        <Axes: xlabel='energy_used', ylabel='distance'>,\n",
       "        <Axes: xlabel='energy_collected', ylabel='distance'>],\n",
       "       [<Axes: xlabel='cost', ylabel='assistance'>,\n",
       "        <Axes: xlabel='month', ylabel='assistance'>,\n",
       "        <Axes: xlabel='duration', ylabel='assistance'>,\n",
       "        <Axes: xlabel='distance', ylabel='assistance'>,\n",
       "        <Axes: xlabel='assistance', ylabel='assistance'>,\n",
       "        <Axes: xlabel='energy_used', ylabel='assistance'>,\n",
       "        <Axes: xlabel='energy_collected', ylabel='assistance'>],\n",
       "       [<Axes: xlabel='cost', ylabel='energy_used'>,\n",
       "        <Axes: xlabel='month', ylabel='energy_used'>,\n",
       "        <Axes: xlabel='duration', ylabel='energy_used'>,\n",
       "        <Axes: xlabel='distance', ylabel='energy_used'>,\n",
       "        <Axes: xlabel='assistance', ylabel='energy_used'>,\n",
       "        <Axes: xlabel='energy_used', ylabel='energy_used'>,\n",
       "        <Axes: xlabel='energy_collected', ylabel='energy_used'>],\n",
       "       [<Axes: xlabel='cost', ylabel='energy_collected'>,\n",
       "        <Axes: xlabel='month', ylabel='energy_collected'>,\n",
       "        <Axes: xlabel='duration', ylabel='energy_collected'>,\n",
       "        <Axes: xlabel='distance', ylabel='energy_collected'>,\n",
       "        <Axes: xlabel='assistance', ylabel='energy_collected'>,\n",
       "        <Axes: xlabel='energy_used', ylabel='energy_collected'>,\n",
       "        <Axes: xlabel='energy_collected', ylabel='energy_collected'>]],\n",
       "      dtype=object)"
      ]
     },
     "execution_count": 78,
     "metadata": {},
     "output_type": "execute_result"
    },
    {
     "data": {
      "image/png": "[encoded data removed]",
      "text/plain": [
       "<Figure size 1200x1200 with 49 Axes>"
      ]
     },
     "metadata": {},
     "output_type": "display_data"
    }
   ],
   "source": [
    "pd.plotting.scatter_matrix(df, figsize=(12,12))"
   ]
  },
  {
   "cell_type": "markdown",
   "id": "4c59f4b6",
   "metadata": {},
   "source": [
    "### Check Nan values"
   ]
  },
  {
   "cell_type": "markdown",
   "id": "0e559b79",
   "metadata": {},
   "source": [
    "`No NaN value exist in data`"
   ]
  },
  {
   "cell_type": "code",
   "execution_count": 81,
   "id": "a4c5c480",
   "metadata": {},
   "outputs": [
    {
     "data": {
      "text/plain": [
       "ticket              0\n",
       "cost                0\n",
       "month               0\n",
       "location_from       0\n",
       "location_to         0\n",
       "duration            0\n",
       "distance            0\n",
       "assistance          0\n",
       "energy_used         0\n",
       "energy_collected    0\n",
       "dtype: int64"
      ]
     },
     "execution_count": 81,
     "metadata": {},
     "output_type": "execute_result"
    }
   ],
   "source": [
    "df.isna().sum()"
   ]
  },
  {
   "cell_type": "markdown",
   "id": "fb4c79b1",
   "metadata": {},
   "source": [
    "### Distance "
   ]
  },
  {
   "cell_type": "markdown",
   "id": "f2a8d245",
   "metadata": {},
   "source": [
    "`Problem: The distance value is negative, which is incorrect as distance is a scalar quantity and must always be positive.`"
   ]
  },
  {
   "cell_type": "markdown",
   "id": "161e8e2c",
   "metadata": {},
   "source": [
    "Discribe"
   ]
  },
  {
   "cell_type": "code",
   "execution_count": 42,
   "id": "125ca8e2",
   "metadata": {},
   "outputs": [
    {
     "data": {
      "text/plain": [
       "count     1774.000000\n",
       "mean      2460.067644\n",
       "std       2352.529305\n",
       "min      -3380.000000\n",
       "25%        910.000000\n",
       "50%       2030.000000\n",
       "75%       3605.000000\n",
       "max      20770.000000\n",
       "Name: distance, dtype: float64"
      ]
     },
     "execution_count": 42,
     "metadata": {},
     "output_type": "execute_result"
    }
   ],
   "source": [
    "df.distance.describe()"
   ]
  },
  {
   "cell_type": "markdown",
   "id": "da9757dd",
   "metadata": {},
   "source": [
    "Number of negative values"
   ]
  },
  {
   "cell_type": "code",
   "execution_count": 79,
   "id": "39d0a09b",
   "metadata": {},
   "outputs": [
    {
     "data": {
      "text/plain": [
       "39"
      ]
     },
     "execution_count": 79,
     "metadata": {},
     "output_type": "execute_result"
    }
   ],
   "source": [
    "(df.distance<0).sum()"
   ]
  },
  {
   "cell_type": "markdown",
   "id": "0b3d6641",
   "metadata": {},
   "source": [
    "`Filter out all the negative value`"
   ]
  },
  {
   "cell_type": "code",
   "execution_count": 80,
   "id": "b1ca6f48",
   "metadata": {},
   "outputs": [
    {
     "data": {
      "text/html": [
       "<div>\n",
       "<style scoped>\n",
       "    .dataframe tbody tr th:only-of-type {\n",
       "        vertical-align: middle;\n",
       "    }\n",
       "\n",
       "    .dataframe tbody tr th {\n",
       "        vertical-align: top;\n",
       "    }\n",
       "\n",
       "    .dataframe thead th {\n",
       "        text-align: right;\n",
       "    }\n",
       "</style>\n",
       "<table border=\"1\" class=\"dataframe\">\n",
       "  <thead>\n",
       "    <tr style=\"text-align: right;\">\n",
       "      <th></th>\n",
       "      <th>ticket</th>\n",
       "      <th>cost</th>\n",
       "      <th>month</th>\n",
       "      <th>location_from</th>\n",
       "      <th>location_to</th>\n",
       "      <th>duration</th>\n",
       "      <th>distance</th>\n",
       "      <th>assistance</th>\n",
       "      <th>energy_used</th>\n",
       "      <th>energy_collected</th>\n",
       "    </tr>\n",
       "  </thead>\n",
       "  <tbody>\n",
       "    <tr>\n",
       "      <th>23</th>\n",
       "      <td>single</td>\n",
       "      <td>0.15</td>\n",
       "      <td>5</td>\n",
       "      <td>TASAVALLANKATU</td>\n",
       "      <td>TASAVALLANKATU</td>\n",
       "      <td>138.0</td>\n",
       "      <td>-150</td>\n",
       "      <td>1</td>\n",
       "      <td>0.2</td>\n",
       "      <td>0.0</td>\n",
       "    </tr>\n",
       "    <tr>\n",
       "      <th>60</th>\n",
       "      <td>season</td>\n",
       "      <td>0.00</td>\n",
       "      <td>8</td>\n",
       "      <td>MICROTEKNIA</td>\n",
       "      <td>MICROTEKNIA</td>\n",
       "      <td>41.0</td>\n",
       "      <td>-20</td>\n",
       "      <td>1</td>\n",
       "      <td>0.0</td>\n",
       "      <td>0.0</td>\n",
       "    </tr>\n",
       "    <tr>\n",
       "      <th>62</th>\n",
       "      <td>single</td>\n",
       "      <td>0.10</td>\n",
       "      <td>8</td>\n",
       "      <td>KEILANKANTA</td>\n",
       "      <td>KEILANKANTA</td>\n",
       "      <td>73.0</td>\n",
       "      <td>-30</td>\n",
       "      <td>1</td>\n",
       "      <td>0.0</td>\n",
       "      <td>0.0</td>\n",
       "    </tr>\n",
       "    <tr>\n",
       "      <th>96</th>\n",
       "      <td>single</td>\n",
       "      <td>0.05</td>\n",
       "      <td>5</td>\n",
       "      <td>TORI</td>\n",
       "      <td>TORI</td>\n",
       "      <td>48.0</td>\n",
       "      <td>-10</td>\n",
       "      <td>1</td>\n",
       "      <td>0.0</td>\n",
       "      <td>0.0</td>\n",
       "    </tr>\n",
       "    <tr>\n",
       "      <th>125</th>\n",
       "      <td>savonia</td>\n",
       "      <td>0.00</td>\n",
       "      <td>10</td>\n",
       "      <td>KAUPPAKATU</td>\n",
       "      <td>KAUPPAKATU</td>\n",
       "      <td>48.0</td>\n",
       "      <td>-20</td>\n",
       "      <td>1</td>\n",
       "      <td>0.0</td>\n",
       "      <td>0.0</td>\n",
       "    </tr>\n",
       "    <tr>\n",
       "      <th>242</th>\n",
       "      <td>savonia</td>\n",
       "      <td>0.00</td>\n",
       "      <td>10</td>\n",
       "      <td>TORI</td>\n",
       "      <td>KAUPPAKATU</td>\n",
       "      <td>207.0</td>\n",
       "      <td>-180</td>\n",
       "      <td>1</td>\n",
       "      <td>3.3</td>\n",
       "      <td>0.0</td>\n",
       "    </tr>\n",
       "    <tr>\n",
       "      <th>284</th>\n",
       "      <td>single</td>\n",
       "      <td>0.15</td>\n",
       "      <td>4</td>\n",
       "      <td>KAUPPAKATU</td>\n",
       "      <td>KAUPPAKATU</td>\n",
       "      <td>178.0</td>\n",
       "      <td>-50</td>\n",
       "      <td>1</td>\n",
       "      <td>0.2</td>\n",
       "      <td>0.0</td>\n",
       "    </tr>\n",
       "    <tr>\n",
       "      <th>295</th>\n",
       "      <td>season</td>\n",
       "      <td>0.00</td>\n",
       "      <td>8</td>\n",
       "      <td>KAUPPAKATU</td>\n",
       "      <td>KAUPPAKATU</td>\n",
       "      <td>79.0</td>\n",
       "      <td>-60</td>\n",
       "      <td>1</td>\n",
       "      <td>0.0</td>\n",
       "      <td>0.0</td>\n",
       "    </tr>\n",
       "    <tr>\n",
       "      <th>318</th>\n",
       "      <td>single</td>\n",
       "      <td>0.45</td>\n",
       "      <td>8</td>\n",
       "      <td>KYS</td>\n",
       "      <td>PUIJONLAAKSO</td>\n",
       "      <td>480.0</td>\n",
       "      <td>-880</td>\n",
       "      <td>1</td>\n",
       "      <td>0.0</td>\n",
       "      <td>0.0</td>\n",
       "    </tr>\n",
       "    <tr>\n",
       "      <th>322</th>\n",
       "      <td>savonia</td>\n",
       "      <td>0.00</td>\n",
       "      <td>10</td>\n",
       "      <td>KYS</td>\n",
       "      <td>KYS</td>\n",
       "      <td>70.0</td>\n",
       "      <td>-10</td>\n",
       "      <td>1</td>\n",
       "      <td>0.0</td>\n",
       "      <td>0.0</td>\n",
       "    </tr>\n",
       "    <tr>\n",
       "      <th>384</th>\n",
       "      <td>season</td>\n",
       "      <td>0.00</td>\n",
       "      <td>8</td>\n",
       "      <td>PUIJONLAAKSO</td>\n",
       "      <td>PUIJONLAAKSO</td>\n",
       "      <td>221.0</td>\n",
       "      <td>-10</td>\n",
       "      <td>1</td>\n",
       "      <td>1.0</td>\n",
       "      <td>0.0</td>\n",
       "    </tr>\n",
       "    <tr>\n",
       "      <th>410</th>\n",
       "      <td>single</td>\n",
       "      <td>0.05</td>\n",
       "      <td>8</td>\n",
       "      <td>TORI</td>\n",
       "      <td>TORI</td>\n",
       "      <td>39.0</td>\n",
       "      <td>-10</td>\n",
       "      <td>1</td>\n",
       "      <td>0.0</td>\n",
       "      <td>0.0</td>\n",
       "    </tr>\n",
       "    <tr>\n",
       "      <th>420</th>\n",
       "      <td>season</td>\n",
       "      <td>0.00</td>\n",
       "      <td>10</td>\n",
       "      <td>TORI</td>\n",
       "      <td>TORI</td>\n",
       "      <td>75.0</td>\n",
       "      <td>-20</td>\n",
       "      <td>1</td>\n",
       "      <td>0.1</td>\n",
       "      <td>0.0</td>\n",
       "    </tr>\n",
       "    <tr>\n",
       "      <th>446</th>\n",
       "      <td>single</td>\n",
       "      <td>0.10</td>\n",
       "      <td>5</td>\n",
       "      <td>PUIJONLAAKSO</td>\n",
       "      <td>PUIJONLAAKSO</td>\n",
       "      <td>109.0</td>\n",
       "      <td>-30</td>\n",
       "      <td>1</td>\n",
       "      <td>0.4</td>\n",
       "      <td>0.0</td>\n",
       "    </tr>\n",
       "    <tr>\n",
       "      <th>462</th>\n",
       "      <td>single</td>\n",
       "      <td>0.50</td>\n",
       "      <td>8</td>\n",
       "      <td>PUIJONLAAKSO</td>\n",
       "      <td>TORI</td>\n",
       "      <td>570.0</td>\n",
       "      <td>-1770</td>\n",
       "      <td>1</td>\n",
       "      <td>0.0</td>\n",
       "      <td>0.0</td>\n",
       "    </tr>\n",
       "    <tr>\n",
       "      <th>474</th>\n",
       "      <td>single</td>\n",
       "      <td>0.30</td>\n",
       "      <td>8</td>\n",
       "      <td>KAUPPAKATU</td>\n",
       "      <td>TORI</td>\n",
       "      <td>313.0</td>\n",
       "      <td>-270</td>\n",
       "      <td>1</td>\n",
       "      <td>0.0</td>\n",
       "      <td>0.0</td>\n",
       "    </tr>\n",
       "    <tr>\n",
       "      <th>494</th>\n",
       "      <td>savonia</td>\n",
       "      <td>0.00</td>\n",
       "      <td>10</td>\n",
       "      <td>TORI</td>\n",
       "      <td>KAUPPAKATU</td>\n",
       "      <td>207.0</td>\n",
       "      <td>-180</td>\n",
       "      <td>1</td>\n",
       "      <td>3.3</td>\n",
       "      <td>0.0</td>\n",
       "    </tr>\n",
       "    <tr>\n",
       "      <th>520</th>\n",
       "      <td>single</td>\n",
       "      <td>0.10</td>\n",
       "      <td>4</td>\n",
       "      <td>PUIJONLAAKSO</td>\n",
       "      <td>PUIJONLAAKSO</td>\n",
       "      <td>62.0</td>\n",
       "      <td>-10</td>\n",
       "      <td>1</td>\n",
       "      <td>0.5</td>\n",
       "      <td>0.0</td>\n",
       "    </tr>\n",
       "    <tr>\n",
       "      <th>576</th>\n",
       "      <td>single</td>\n",
       "      <td>0.50</td>\n",
       "      <td>4</td>\n",
       "      <td>KYS</td>\n",
       "      <td>KAUPPAKATU</td>\n",
       "      <td>558.0</td>\n",
       "      <td>-1770</td>\n",
       "      <td>0</td>\n",
       "      <td>0.0</td>\n",
       "      <td>0.0</td>\n",
       "    </tr>\n",
       "    <tr>\n",
       "      <th>589</th>\n",
       "      <td>single</td>\n",
       "      <td>0.05</td>\n",
       "      <td>10</td>\n",
       "      <td>TORI</td>\n",
       "      <td>TORI</td>\n",
       "      <td>51.0</td>\n",
       "      <td>-20</td>\n",
       "      <td>1</td>\n",
       "      <td>0.0</td>\n",
       "      <td>0.0</td>\n",
       "    </tr>\n",
       "    <tr>\n",
       "      <th>639</th>\n",
       "      <td>single</td>\n",
       "      <td>0.15</td>\n",
       "      <td>8</td>\n",
       "      <td>KYS</td>\n",
       "      <td>KYS</td>\n",
       "      <td>133.0</td>\n",
       "      <td>-110</td>\n",
       "      <td>1</td>\n",
       "      <td>0.0</td>\n",
       "      <td>0.0</td>\n",
       "    </tr>\n",
       "    <tr>\n",
       "      <th>738</th>\n",
       "      <td>single</td>\n",
       "      <td>0.10</td>\n",
       "      <td>10</td>\n",
       "      <td>TORI</td>\n",
       "      <td>TORI</td>\n",
       "      <td>77.0</td>\n",
       "      <td>-60</td>\n",
       "      <td>1</td>\n",
       "      <td>0.1</td>\n",
       "      <td>0.0</td>\n",
       "    </tr>\n",
       "    <tr>\n",
       "      <th>808</th>\n",
       "      <td>single</td>\n",
       "      <td>0.20</td>\n",
       "      <td>8</td>\n",
       "      <td>KEILANKANTA</td>\n",
       "      <td>KEILANKANTA</td>\n",
       "      <td>227.0</td>\n",
       "      <td>-130</td>\n",
       "      <td>1</td>\n",
       "      <td>0.0</td>\n",
       "      <td>0.0</td>\n",
       "    </tr>\n",
       "    <tr>\n",
       "      <th>872</th>\n",
       "      <td>single</td>\n",
       "      <td>0.40</td>\n",
       "      <td>5</td>\n",
       "      <td>TORI</td>\n",
       "      <td>SATAMA</td>\n",
       "      <td>453.0</td>\n",
       "      <td>-870</td>\n",
       "      <td>1</td>\n",
       "      <td>0.0</td>\n",
       "      <td>0.0</td>\n",
       "    </tr>\n",
       "    <tr>\n",
       "      <th>977</th>\n",
       "      <td>savonia</td>\n",
       "      <td>0.00</td>\n",
       "      <td>10</td>\n",
       "      <td>TORI</td>\n",
       "      <td>TORI</td>\n",
       "      <td>263.0</td>\n",
       "      <td>-240</td>\n",
       "      <td>1</td>\n",
       "      <td>0.2</td>\n",
       "      <td>0.0</td>\n",
       "    </tr>\n",
       "    <tr>\n",
       "      <th>1002</th>\n",
       "      <td>single</td>\n",
       "      <td>0.15</td>\n",
       "      <td>5</td>\n",
       "      <td>TASAVALLANKATU</td>\n",
       "      <td>TASAVALLANKATU</td>\n",
       "      <td>130.0</td>\n",
       "      <td>-50</td>\n",
       "      <td>1</td>\n",
       "      <td>0.2</td>\n",
       "      <td>0.0</td>\n",
       "    </tr>\n",
       "    <tr>\n",
       "      <th>1046</th>\n",
       "      <td>season</td>\n",
       "      <td>0.00</td>\n",
       "      <td>10</td>\n",
       "      <td>TORI</td>\n",
       "      <td>KAUPPAKATU</td>\n",
       "      <td>216.0</td>\n",
       "      <td>-210</td>\n",
       "      <td>1</td>\n",
       "      <td>0.7</td>\n",
       "      <td>0.0</td>\n",
       "    </tr>\n",
       "    <tr>\n",
       "      <th>1061</th>\n",
       "      <td>season</td>\n",
       "      <td>0.00</td>\n",
       "      <td>5</td>\n",
       "      <td>TORI</td>\n",
       "      <td>KAUPPAKATU</td>\n",
       "      <td>393.0</td>\n",
       "      <td>-220</td>\n",
       "      <td>1</td>\n",
       "      <td>0.0</td>\n",
       "      <td>0.0</td>\n",
       "    </tr>\n",
       "    <tr>\n",
       "      <th>1076</th>\n",
       "      <td>season</td>\n",
       "      <td>0.00</td>\n",
       "      <td>8</td>\n",
       "      <td>PUIJONLAAKSO</td>\n",
       "      <td>PUIJONLAAKSO</td>\n",
       "      <td>93.0</td>\n",
       "      <td>-50</td>\n",
       "      <td>1</td>\n",
       "      <td>0.1</td>\n",
       "      <td>0.0</td>\n",
       "    </tr>\n",
       "    <tr>\n",
       "      <th>1095</th>\n",
       "      <td>season</td>\n",
       "      <td>0.00</td>\n",
       "      <td>8</td>\n",
       "      <td>PUIJONLAAKSO</td>\n",
       "      <td>PUIJONLAAKSO</td>\n",
       "      <td>105.0</td>\n",
       "      <td>-30</td>\n",
       "      <td>1</td>\n",
       "      <td>0.4</td>\n",
       "      <td>0.0</td>\n",
       "    </tr>\n",
       "    <tr>\n",
       "      <th>1145</th>\n",
       "      <td>single</td>\n",
       "      <td>0.25</td>\n",
       "      <td>5</td>\n",
       "      <td>KAUPPAKATU</td>\n",
       "      <td>TORI</td>\n",
       "      <td>250.0</td>\n",
       "      <td>-240</td>\n",
       "      <td>1</td>\n",
       "      <td>0.0</td>\n",
       "      <td>0.0</td>\n",
       "    </tr>\n",
       "    <tr>\n",
       "      <th>1259</th>\n",
       "      <td>single</td>\n",
       "      <td>0.10</td>\n",
       "      <td>8</td>\n",
       "      <td>SATAMA</td>\n",
       "      <td>SATAMA</td>\n",
       "      <td>66.0</td>\n",
       "      <td>-30</td>\n",
       "      <td>1</td>\n",
       "      <td>0.0</td>\n",
       "      <td>0.0</td>\n",
       "    </tr>\n",
       "    <tr>\n",
       "      <th>1342</th>\n",
       "      <td>single</td>\n",
       "      <td>0.15</td>\n",
       "      <td>4</td>\n",
       "      <td>KAUPPAKATU</td>\n",
       "      <td>KAUPPAKATU</td>\n",
       "      <td>178.0</td>\n",
       "      <td>-50</td>\n",
       "      <td>1</td>\n",
       "      <td>0.2</td>\n",
       "      <td>0.0</td>\n",
       "    </tr>\n",
       "    <tr>\n",
       "      <th>1446</th>\n",
       "      <td>season</td>\n",
       "      <td>0.00</td>\n",
       "      <td>10</td>\n",
       "      <td>TORI</td>\n",
       "      <td>TORI</td>\n",
       "      <td>96.0</td>\n",
       "      <td>-40</td>\n",
       "      <td>1</td>\n",
       "      <td>1.9</td>\n",
       "      <td>0.3</td>\n",
       "    </tr>\n",
       "    <tr>\n",
       "      <th>1563</th>\n",
       "      <td>season</td>\n",
       "      <td>0.00</td>\n",
       "      <td>8</td>\n",
       "      <td>KEILANKANTA</td>\n",
       "      <td>TASAVALLANKATU</td>\n",
       "      <td>993.0</td>\n",
       "      <td>-3380</td>\n",
       "      <td>1</td>\n",
       "      <td>0.0</td>\n",
       "      <td>0.0</td>\n",
       "    </tr>\n",
       "    <tr>\n",
       "      <th>1607</th>\n",
       "      <td>season</td>\n",
       "      <td>0.00</td>\n",
       "      <td>8</td>\n",
       "      <td>TORI</td>\n",
       "      <td>TORI</td>\n",
       "      <td>245.0</td>\n",
       "      <td>-230</td>\n",
       "      <td>1</td>\n",
       "      <td>0.0</td>\n",
       "      <td>0.0</td>\n",
       "    </tr>\n",
       "    <tr>\n",
       "      <th>1617</th>\n",
       "      <td>single</td>\n",
       "      <td>0.20</td>\n",
       "      <td>10</td>\n",
       "      <td>KYS</td>\n",
       "      <td>KYS</td>\n",
       "      <td>237.0</td>\n",
       "      <td>-80</td>\n",
       "      <td>1</td>\n",
       "      <td>0.0</td>\n",
       "      <td>0.0</td>\n",
       "    </tr>\n",
       "    <tr>\n",
       "      <th>1636</th>\n",
       "      <td>single</td>\n",
       "      <td>0.45</td>\n",
       "      <td>8</td>\n",
       "      <td>TASAVALLANKATU</td>\n",
       "      <td>KAUPPAKATU</td>\n",
       "      <td>525.0</td>\n",
       "      <td>-1440</td>\n",
       "      <td>1</td>\n",
       "      <td>0.0</td>\n",
       "      <td>0.0</td>\n",
       "    </tr>\n",
       "    <tr>\n",
       "      <th>1680</th>\n",
       "      <td>season</td>\n",
       "      <td>0.00</td>\n",
       "      <td>10</td>\n",
       "      <td>TORI</td>\n",
       "      <td>TORI</td>\n",
       "      <td>115.0</td>\n",
       "      <td>-20</td>\n",
       "      <td>1</td>\n",
       "      <td>0.0</td>\n",
       "      <td>0.0</td>\n",
       "    </tr>\n",
       "  </tbody>\n",
       "</table>\n",
       "</div>"
      ],
      "text/plain": [
       "       ticket  cost  month   location_from     location_to  duration  \\\n",
       "23     single  0.15      5  TASAVALLANKATU  TASAVALLANKATU     138.0   \n",
       "60     season  0.00      8     MICROTEKNIA     MICROTEKNIA      41.0   \n",
       "62     single  0.10      8     KEILANKANTA     KEILANKANTA      73.0   \n",
       "96     single  0.05      5            TORI            TORI      48.0   \n",
       "125   savonia  0.00     10      KAUPPAKATU      KAUPPAKATU      48.0   \n",
       "242   savonia  0.00     10            TORI      KAUPPAKATU     207.0   \n",
       "284    single  0.15      4      KAUPPAKATU      KAUPPAKATU     178.0   \n",
       "295    season  0.00      8      KAUPPAKATU      KAUPPAKATU      79.0   \n",
       "318    single  0.45      8             KYS    PUIJONLAAKSO     480.0   \n",
       "322   savonia  0.00     10             KYS             KYS      70.0   \n",
       "384    season  0.00      8    PUIJONLAAKSO    PUIJONLAAKSO     221.0   \n",
       "410    single  0.05      8            TORI            TORI      39.0   \n",
       "420    season  0.00     10            TORI            TORI      75.0   \n",
       "446    single  0.10      5    PUIJONLAAKSO    PUIJONLAAKSO     109.0   \n",
       "462    single  0.50      8    PUIJONLAAKSO            TORI     570.0   \n",
       "474    single  0.30      8      KAUPPAKATU            TORI     313.0   \n",
       "494   savonia  0.00     10            TORI      KAUPPAKATU     207.0   \n",
       "520    single  0.10      4    PUIJONLAAKSO    PUIJONLAAKSO      62.0   \n",
       "576    single  0.50      4             KYS      KAUPPAKATU     558.0   \n",
       "589    single  0.05     10            TORI            TORI      51.0   \n",
       "639    single  0.15      8             KYS             KYS     133.0   \n",
       "738    single  0.10     10            TORI            TORI      77.0   \n",
       "808    single  0.20      8     KEILANKANTA     KEILANKANTA     227.0   \n",
       "872    single  0.40      5            TORI          SATAMA     453.0   \n",
       "977   savonia  0.00     10            TORI            TORI     263.0   \n",
       "1002   single  0.15      5  TASAVALLANKATU  TASAVALLANKATU     130.0   \n",
       "1046   season  0.00     10            TORI      KAUPPAKATU     216.0   \n",
       "1061   season  0.00      5            TORI      KAUPPAKATU     393.0   \n",
       "1076   season  0.00      8    PUIJONLAAKSO    PUIJONLAAKSO      93.0   \n",
       "1095   season  0.00      8    PUIJONLAAKSO    PUIJONLAAKSO     105.0   \n",
       "1145   single  0.25      5      KAUPPAKATU            TORI     250.0   \n",
       "1259   single  0.10      8          SATAMA          SATAMA      66.0   \n",
       "1342   single  0.15      4      KAUPPAKATU      KAUPPAKATU     178.0   \n",
       "1446   season  0.00     10            TORI            TORI      96.0   \n",
       "1563   season  0.00      8     KEILANKANTA  TASAVALLANKATU     993.0   \n",
       "1607   season  0.00      8            TORI            TORI     245.0   \n",
       "1617   single  0.20     10             KYS             KYS     237.0   \n",
       "1636   single  0.45      8  TASAVALLANKATU      KAUPPAKATU     525.0   \n",
       "1680   season  0.00     10            TORI            TORI     115.0   \n",
       "\n",
       "      distance  assistance  energy_used  energy_collected  \n",
       "23        -150           1          0.2               0.0  \n",
       "60         -20           1          0.0               0.0  \n",
       "62         -30           1          0.0               0.0  \n",
       "96         -10           1          0.0               0.0  \n",
       "125        -20           1          0.0               0.0  \n",
       "242       -180           1          3.3               0.0  \n",
       "284        -50           1          0.2               0.0  \n",
       "295        -60           1          0.0               0.0  \n",
       "318       -880           1          0.0               0.0  \n",
       "322        -10           1          0.0               0.0  \n",
       "384        -10           1          1.0               0.0  \n",
       "410        -10           1          0.0               0.0  \n",
       "420        -20           1          0.1               0.0  \n",
       "446        -30           1          0.4               0.0  \n",
       "462      -1770           1          0.0               0.0  \n",
       "474       -270           1          0.0               0.0  \n",
       "494       -180           1          3.3               0.0  \n",
       "520        -10           1          0.5               0.0  \n",
       "576      -1770           0          0.0               0.0  \n",
       "589        -20           1          0.0               0.0  \n",
       "639       -110           1          0.0               0.0  \n",
       "738        -60           1          0.1               0.0  \n",
       "808       -130           1          0.0               0.0  \n",
       "872       -870           1          0.0               0.0  \n",
       "977       -240           1          0.2               0.0  \n",
       "1002       -50           1          0.2               0.0  \n",
       "1046      -210           1          0.7               0.0  \n",
       "1061      -220           1          0.0               0.0  \n",
       "1076       -50           1          0.1               0.0  \n",
       "1095       -30           1          0.4               0.0  \n",
       "1145      -240           1          0.0               0.0  \n",
       "1259       -30           1          0.0               0.0  \n",
       "1342       -50           1          0.2               0.0  \n",
       "1446       -40           1          1.9               0.3  \n",
       "1563     -3380           1          0.0               0.0  \n",
       "1607      -230           1          0.0               0.0  \n",
       "1617       -80           1          0.0               0.0  \n",
       "1636     -1440           1          0.0               0.0  \n",
       "1680       -20           1          0.0               0.0  "
      ]
     },
     "execution_count": 80,
     "metadata": {},
     "output_type": "execute_result"
    }
   ],
   "source": [
    "df.loc[df.distance<0]"
   ]
  },
  {
   "cell_type": "markdown",
   "id": "30889a20",
   "metadata": {},
   "source": [
    "`Modify: I think the negative sign appeared due to an error in the direction {for example distance(location to)-distance(loaction from) istead they have use distance(location from)-distance(location to)}. To resolve this, I will present all distances as positive numbers.`"
   ]
  },
  {
   "cell_type": "code",
   "execution_count": 83,
   "id": "0d45b7e7",
   "metadata": {},
   "outputs": [],
   "source": [
    "df.distance = df.distance.abs()"
   ]
  },
  {
   "cell_type": "markdown",
   "id": "0378e759",
   "metadata": {},
   "source": [
    "Check the Change: number of negative values"
   ]
  },
  {
   "cell_type": "code",
   "execution_count": 85,
   "id": "f64072f2",
   "metadata": {},
   "outputs": [
    {
     "data": {
      "text/plain": [
       "0"
      ]
     },
     "execution_count": 85,
     "metadata": {},
     "output_type": "execute_result"
    }
   ],
   "source": [
    "(df.distance<0).sum()"
   ]
  },
  {
   "cell_type": "markdown",
   "id": "252644b6",
   "metadata": {},
   "source": [
    "### Electric Assistance"
   ]
  },
  {
   "cell_type": "markdown",
   "id": "a8d67052",
   "metadata": {},
   "source": [
    "`Problem: If electric assistance is not utilized, the energy consumed must be equal to zero.`"
   ]
  },
  {
   "cell_type": "markdown",
   "id": "3d964244",
   "metadata": {},
   "source": [
    "Number of data with this issue"
   ]
  },
  {
   "cell_type": "code",
   "execution_count": 86,
   "id": "e5be2f81",
   "metadata": {},
   "outputs": [
    {
     "data": {
      "text/plain": [
       "(4, 10)"
      ]
     },
     "execution_count": 86,
     "metadata": {},
     "output_type": "execute_result"
    }
   ],
   "source": [
    "df.loc[(df['assistance']==0) & (df['energy_used']!=0.0)].shape"
   ]
  },
  {
   "cell_type": "markdown",
   "id": "da087a3f",
   "metadata": {},
   "source": [
    "`Filter out the problematic data`"
   ]
  },
  {
   "cell_type": "code",
   "execution_count": 87,
   "id": "71f862f2",
   "metadata": {},
   "outputs": [
    {
     "data": {
      "text/html": [
       "<div>\n",
       "<style scoped>\n",
       "    .dataframe tbody tr th:only-of-type {\n",
       "        vertical-align: middle;\n",
       "    }\n",
       "\n",
       "    .dataframe tbody tr th {\n",
       "        vertical-align: top;\n",
       "    }\n",
       "\n",
       "    .dataframe thead th {\n",
       "        text-align: right;\n",
       "    }\n",
       "</style>\n",
       "<table border=\"1\" class=\"dataframe\">\n",
       "  <thead>\n",
       "    <tr style=\"text-align: right;\">\n",
       "      <th></th>\n",
       "      <th>ticket</th>\n",
       "      <th>cost</th>\n",
       "      <th>month</th>\n",
       "      <th>location_from</th>\n",
       "      <th>location_to</th>\n",
       "      <th>duration</th>\n",
       "      <th>distance</th>\n",
       "      <th>assistance</th>\n",
       "      <th>energy_used</th>\n",
       "      <th>energy_collected</th>\n",
       "    </tr>\n",
       "  </thead>\n",
       "  <tbody>\n",
       "    <tr>\n",
       "      <th>231</th>\n",
       "      <td>single</td>\n",
       "      <td>0.10</td>\n",
       "      <td>7</td>\n",
       "      <td>TASAVALLANKATU</td>\n",
       "      <td>TASAVALLANKATU</td>\n",
       "      <td>61.0</td>\n",
       "      <td>1300</td>\n",
       "      <td>0</td>\n",
       "      <td>9.0</td>\n",
       "      <td>11.1</td>\n",
       "    </tr>\n",
       "    <tr>\n",
       "      <th>611</th>\n",
       "      <td>season</td>\n",
       "      <td>0.00</td>\n",
       "      <td>10</td>\n",
       "      <td>PIRTTI</td>\n",
       "      <td>PIRTTI</td>\n",
       "      <td>1795.0</td>\n",
       "      <td>1880</td>\n",
       "      <td>0</td>\n",
       "      <td>12.1</td>\n",
       "      <td>2.7</td>\n",
       "    </tr>\n",
       "    <tr>\n",
       "      <th>1372</th>\n",
       "      <td>savonia</td>\n",
       "      <td>0.00</td>\n",
       "      <td>10</td>\n",
       "      <td>TORI</td>\n",
       "      <td>TORI</td>\n",
       "      <td>8.0</td>\n",
       "      <td>190</td>\n",
       "      <td>0</td>\n",
       "      <td>1.5</td>\n",
       "      <td>0.6</td>\n",
       "    </tr>\n",
       "    <tr>\n",
       "      <th>1453</th>\n",
       "      <td>single</td>\n",
       "      <td>0.55</td>\n",
       "      <td>7</td>\n",
       "      <td>TORI</td>\n",
       "      <td>PUIJONLAAKSO</td>\n",
       "      <td>611.0</td>\n",
       "      <td>2590</td>\n",
       "      <td>0</td>\n",
       "      <td>25.4</td>\n",
       "      <td>3.3</td>\n",
       "    </tr>\n",
       "  </tbody>\n",
       "</table>\n",
       "</div>"
      ],
      "text/plain": [
       "       ticket  cost  month   location_from     location_to  duration  \\\n",
       "231    single  0.10      7  TASAVALLANKATU  TASAVALLANKATU      61.0   \n",
       "611    season  0.00     10          PIRTTI          PIRTTI    1795.0   \n",
       "1372  savonia  0.00     10            TORI            TORI       8.0   \n",
       "1453   single  0.55      7            TORI    PUIJONLAAKSO     611.0   \n",
       "\n",
       "      distance  assistance  energy_used  energy_collected  \n",
       "231       1300           0          9.0              11.1  \n",
       "611       1880           0         12.1               2.7  \n",
       "1372       190           0          1.5               0.6  \n",
       "1453      2590           0         25.4               3.3  "
      ]
     },
     "execution_count": 87,
     "metadata": {},
     "output_type": "execute_result"
    }
   ],
   "source": [
    "df.loc[(df['assistance']==0) & (df['energy_used']!=0.0)]"
   ]
  },
  {
   "cell_type": "markdown",
   "id": "421972e4",
   "metadata": {},
   "source": [
    "`This error may be due to a faulty device because energy is being used. I will change assistance from 0 to 1.`"
   ]
  },
  {
   "cell_type": "markdown",
   "id": "67bc3248",
   "metadata": {},
   "source": [
    "Values Count"
   ]
  },
  {
   "cell_type": "code",
   "execution_count": 90,
   "id": "c4801774",
   "metadata": {},
   "outputs": [
    {
     "data": {
      "text/plain": [
       "assistance\n",
       "1    1625\n",
       "0     149\n",
       "Name: count, dtype: int64"
      ]
     },
     "execution_count": 90,
     "metadata": {},
     "output_type": "execute_result"
    }
   ],
   "source": [
    "df.assistance.value_counts()"
   ]
  },
  {
   "cell_type": "code",
   "execution_count": 91,
   "id": "a90a5678",
   "metadata": {},
   "outputs": [],
   "source": [
    "df.loc[(df['assistance'] == 0) & (df['energy_used'] != 0.0), 'assistance'] = 1"
   ]
  },
  {
   "cell_type": "markdown",
   "id": "3f205391",
   "metadata": {},
   "source": [
    "Check Data: count value of 0 change from 149 to 145, difference is 4"
   ]
  },
  {
   "cell_type": "code",
   "execution_count": 93,
   "id": "2f25ff38",
   "metadata": {},
   "outputs": [
    {
     "data": {
      "text/plain": [
       "assistance\n",
       "1    1629\n",
       "0     145\n",
       "Name: count, dtype: int64"
      ]
     },
     "execution_count": 93,
     "metadata": {},
     "output_type": "execute_result"
    }
   ],
   "source": [
    "df.assistance.value_counts()"
   ]
  },
  {
   "cell_type": "markdown",
   "id": "157552f6",
   "metadata": {},
   "source": [
    "# Data exploration"
   ]
  },
  {
   "cell_type": "markdown",
   "id": "633d072d",
   "metadata": {},
   "source": [
    "## 4.1"
   ]
  },
  {
   "cell_type": "markdown",
   "id": "f3aa2dae",
   "metadata": {},
   "source": [
    "For each ticket type, calculate the number of trips made, the total distance travelled, the total time travelled and the total amount of fees paid. Examine your results and make comments about the customers."
   ]
  },
  {
   "cell_type": "markdown",
   "id": "ac955a5b",
   "metadata": {},
   "source": [
    "### Number of trips "
   ]
  },
  {
   "cell_type": "markdown",
   "id": "9557e3e3",
   "metadata": {},
   "source": [
    "`Number trip made per ticket type`"
   ]
  },
  {
   "cell_type": "markdown",
   "id": "cd852f5b",
   "metadata": {},
   "source": [
    "Count"
   ]
  },
  {
   "cell_type": "code",
   "execution_count": 102,
   "id": "f1aa2736",
   "metadata": {},
   "outputs": [
    {
     "data": {
      "text/plain": [
       "ticket\n",
       "single     967\n",
       "season     553\n",
       "savonia    254\n",
       "Name: count, dtype: int64"
      ]
     },
     "execution_count": 102,
     "metadata": {},
     "output_type": "execute_result"
    }
   ],
   "source": [
    "df.ticket.value_counts()"
   ]
  },
  {
   "cell_type": "markdown",
   "id": "9b03652c",
   "metadata": {},
   "source": [
    "Single share in total trip"
   ]
  },
  {
   "cell_type": "code",
   "execution_count": 105,
   "id": "98842d43",
   "metadata": {},
   "outputs": [
    {
     "data": {
      "text/plain": [
       "0.5450958286358512"
      ]
     },
     "execution_count": 105,
     "metadata": {},
     "output_type": "execute_result"
    }
   ],
   "source": [
    "967/(df.ticket.count())"
   ]
  },
  {
   "cell_type": "markdown",
   "id": "3f6a6c8d",
   "metadata": {},
   "source": [
    "Plot"
   ]
  },
  {
   "cell_type": "code",
   "execution_count": 97,
   "id": "d4228011",
   "metadata": {},
   "outputs": [
    {
     "data": {
      "text/plain": [
       "<Axes: xlabel='ticket'>"
      ]
     },
     "execution_count": 97,
     "metadata": {},
     "output_type": "execute_result"
    },
    {
     "data": {
      "image/png": "[encoded data removed]",
      "text/plain": [
       "<Figure size 640x480 with 1 Axes>"
      ]
     },
     "metadata": {},
     "output_type": "display_data"
    }
   ],
   "source": [
    "df.groupby('ticket')['ticket'].count().plot.bar()"
   ]
  },
  {
   "cell_type": "markdown",
   "id": "fb678d30",
   "metadata": {},
   "source": [
    "### Total Distance travelled "
   ]
  },
  {
   "cell_type": "markdown",
   "id": "07834213",
   "metadata": {},
   "source": [
    "`Total distance travelled per ticket type`"
   ]
  },
  {
   "cell_type": "markdown",
   "id": "b5c6c901",
   "metadata": {},
   "source": [
    "Count"
   ]
  },
  {
   "cell_type": "code",
   "execution_count": 98,
   "id": "a5d34444",
   "metadata": {},
   "outputs": [
    {
     "data": {
      "text/plain": [
       "ticket\n",
       "savonia     499880\n",
       "season     1315880\n",
       "single     2574360\n",
       "Name: distance, dtype: int64"
      ]
     },
     "execution_count": 98,
     "metadata": {},
     "output_type": "execute_result"
    }
   ],
   "source": [
    "df.groupby('ticket')['distance'].sum()"
   ]
  },
  {
   "cell_type": "markdown",
   "id": "2f436050",
   "metadata": {},
   "source": [
    "Plot"
   ]
  },
  {
   "cell_type": "code",
   "execution_count": 99,
   "id": "6887a672",
   "metadata": {},
   "outputs": [
    {
     "data": {
      "text/plain": [
       "<Axes: xlabel='ticket'>"
      ]
     },
     "execution_count": 99,
     "metadata": {},
     "output_type": "execute_result"
    },
    {
     "data": {
      "image/png": "[encoded data removed]",
      "text/plain": [
       "<Figure size 640x480 with 1 Axes>"
      ]
     },
     "metadata": {},
     "output_type": "display_data"
    }
   ],
   "source": [
    "df.groupby('ticket')['distance'].sum().plot.bar()"
   ]
  },
  {
   "cell_type": "markdown",
   "id": "51a7bd3a",
   "metadata": {},
   "source": [
    "### Duration"
   ]
  },
  {
   "cell_type": "markdown",
   "id": "83a821ec",
   "metadata": {},
   "source": [
    "`Total time travelled per ticket type`"
   ]
  },
  {
   "cell_type": "markdown",
   "id": "6950de15",
   "metadata": {},
   "source": [
    "Count"
   ]
  },
  {
   "cell_type": "code",
   "execution_count": 100,
   "id": "cdac47b6",
   "metadata": {},
   "outputs": [
    {
     "data": {
      "text/plain": [
       "ticket\n",
       "savonia    192624.0\n",
       "season     325963.0\n",
       "single     672341.0\n",
       "Name: duration, dtype: float64"
      ]
     },
     "execution_count": 100,
     "metadata": {},
     "output_type": "execute_result"
    }
   ],
   "source": [
    "df.groupby('ticket')['duration'].sum()"
   ]
  },
  {
   "cell_type": "markdown",
   "id": "89b81a27",
   "metadata": {},
   "source": [
    "Plot"
   ]
  },
  {
   "cell_type": "code",
   "execution_count": 101,
   "id": "ea8d4cb8",
   "metadata": {},
   "outputs": [
    {
     "data": {
      "text/plain": [
       "<Axes: xlabel='ticket'>"
      ]
     },
     "execution_count": 101,
     "metadata": {},
     "output_type": "execute_result"
    },
    {
     "data": {
      "image/png": "[encoded data removed]",
      "text/plain": [
       "<Figure size 640x480 with 1 Axes>"
      ]
     },
     "metadata": {},
     "output_type": "display_data"
    }
   ],
   "source": [
    "df.groupby('ticket')['duration'].sum().plot.bar()"
   ]
  },
  {
   "cell_type": "markdown",
   "id": "97cfa1d2",
   "metadata": {},
   "source": [
    "### Fee Paid"
   ]
  },
  {
   "cell_type": "markdown",
   "id": "9f38e3d1",
   "metadata": {},
   "source": [
    "`total fee paid per ticket type`"
   ]
  },
  {
   "cell_type": "markdown",
   "id": "f73a2ffe",
   "metadata": {},
   "source": [
    "Count"
   ]
  },
  {
   "cell_type": "code",
   "execution_count": 57,
   "id": "a21761fe",
   "metadata": {},
   "outputs": [
    {
     "data": {
      "text/plain": [
       "ticket\n",
       "savonia    202.00\n",
       "season       3.00\n",
       "single     666.45\n",
       "Name: cost, dtype: float64"
      ]
     },
     "execution_count": 57,
     "metadata": {},
     "output_type": "execute_result"
    }
   ],
   "source": [
    "df.groupby('ticket')['cost'].sum()"
   ]
  },
  {
   "cell_type": "markdown",
   "id": "e54e4c8f",
   "metadata": {},
   "source": [
    "Plot"
   ]
  },
  {
   "cell_type": "code",
   "execution_count": 58,
   "id": "9c50f7b8",
   "metadata": {},
   "outputs": [
    {
     "data": {
      "text/plain": [
       "<Axes: xlabel='ticket'>"
      ]
     },
     "execution_count": 58,
     "metadata": {},
     "output_type": "execute_result"
    },
    {
     "data": {
      "image/png": "[encoded data removed]",
      "text/plain": [
       "<Figure size 640x480 with 1 Axes>"
      ]
     },
     "metadata": {},
     "output_type": "display_data"
    }
   ],
   "source": [
    "df.groupby('ticket')['cost'].sum().plot.bar()"
   ]
  },
  {
   "cell_type": "markdown",
   "id": "c3643749",
   "metadata": {},
   "source": [
    "### Comments about customer"
   ]
  },
  {
   "cell_type": "markdown",
   "id": "9a8540e0",
   "metadata": {},
   "source": [
    "Upon comparing the above data:\n",
    "\n",
    "1. The two groups that consistently make the highest payments are \"Single ticket type\" and \"Savonia ticket type.\" These groups tend to contribute the most substantial fees, while the \"Season\" category contributes the least revenue.\n",
    "\n",
    "2. A noticeable correlation emerges when observing the number of trips, total distance traveled, and trip duration, they follow same trends. \n",
    "\n",
    "3. It becomes evident that the \"Single ticket type\" group is the most frequent user of the bike-sharing service (contributing 50% of tripm), which results in higher numbers for these metrics."
   ]
  },
  {
   "cell_type": "markdown",
   "id": "bedbc02e",
   "metadata": {},
   "source": [
    "### Aditional Analysis"
   ]
  },
  {
   "cell_type": "markdown",
   "id": "c127c807",
   "metadata": {},
   "source": [
    "To gain a deeper understanding of our customers, I conducted additional analysis. Specifically, I calculated the average fee paid per trip for each ticket type. Instead of simply summing all the values, I computed the average trip cost for each ticket type, providing more insight into customer behavior."
   ]
  },
  {
   "cell_type": "markdown",
   "id": "f6aa5529",
   "metadata": {},
   "source": [
    "`Fee Paid per Trip vs Ticket`"
   ]
  },
  {
   "cell_type": "markdown",
   "id": "c714e9f2",
   "metadata": {},
   "source": [
    "Identify any outliers in the fee paid data, as the presence of outliers can potentially skew our results in one direction. I have plotted bar plot."
   ]
  },
  {
   "cell_type": "markdown",
   "id": "3d258371",
   "metadata": {},
   "source": [
    "`Clearly most of cost variable is below 50, only 3 are above 50`"
   ]
  },
  {
   "cell_type": "code",
   "execution_count": 109,
   "id": "e654aeb0",
   "metadata": {},
   "outputs": [
    {
     "data": {
      "text/plain": [
       "[Text(0, 0, '1771'),\n",
       " Text(0, 0, '0'),\n",
       " Text(0, 0, '0'),\n",
       " Text(0, 0, '0'),\n",
       " Text(0, 0, '0'),\n",
       " Text(0, 0, '0'),\n",
       " Text(0, 0, '0'),\n",
       " Text(0, 0, '0'),\n",
       " Text(0, 0, '0'),\n",
       " Text(0, 0, '3')]"
      ]
     },
     "execution_count": 109,
     "metadata": {},
     "output_type": "execute_result"
    },
    {
     "data": {
      "image/png": "[encoded data removed]",
      "text/plain": [
       "<Figure size 640x480 with 1 Axes>"
      ]
     },
     "metadata": {},
     "output_type": "display_data"
    }
   ],
   "source": [
    "counts, edges, bars = plt.hist(df.cost, bins=10)\n",
    "\n",
    "plt.bar_label(bars)"
   ]
  },
  {
   "cell_type": "markdown",
   "id": "0d86f4f5",
   "metadata": {},
   "source": [
    "`Calculation of average trip cost for each ticket type for fee paid below 50.`"
   ]
  },
  {
   "cell_type": "code",
   "execution_count": 112,
   "id": "5a860efd",
   "metadata": {},
   "outputs": [
    {
     "data": {
      "text/html": [
       "<div>\n",
       "<style scoped>\n",
       "    .dataframe tbody tr th:only-of-type {\n",
       "        vertical-align: middle;\n",
       "    }\n",
       "\n",
       "    .dataframe tbody tr th {\n",
       "        vertical-align: top;\n",
       "    }\n",
       "\n",
       "    .dataframe thead th {\n",
       "        text-align: right;\n",
       "    }\n",
       "</style>\n",
       "<table border=\"1\" class=\"dataframe\">\n",
       "  <thead>\n",
       "    <tr style=\"text-align: right;\">\n",
       "      <th></th>\n",
       "      <th>ticket</th>\n",
       "      <th>trip</th>\n",
       "    </tr>\n",
       "  </thead>\n",
       "  <tbody>\n",
       "    <tr>\n",
       "      <th>0</th>\n",
       "      <td>savonia</td>\n",
       "      <td>252</td>\n",
       "    </tr>\n",
       "    <tr>\n",
       "      <th>1</th>\n",
       "      <td>season</td>\n",
       "      <td>553</td>\n",
       "    </tr>\n",
       "    <tr>\n",
       "      <th>2</th>\n",
       "      <td>single</td>\n",
       "      <td>966</td>\n",
       "    </tr>\n",
       "  </tbody>\n",
       "</table>\n",
       "</div>"
      ],
      "text/plain": [
       "    ticket  trip\n",
       "0  savonia   252\n",
       "1   season   553\n",
       "2   single   966"
      ]
     },
     "execution_count": 112,
     "metadata": {},
     "output_type": "execute_result"
    }
   ],
   "source": [
    "df_group_trip = df.loc[df.cost<50].groupby('ticket')['ticket'].count().reset_index(name='trip')\n",
    "df_group_trip"
   ]
  },
  {
   "cell_type": "code",
   "execution_count": 113,
   "id": "928a3fdb",
   "metadata": {},
   "outputs": [
    {
     "data": {
      "text/html": [
       "<div>\n",
       "<style scoped>\n",
       "    .dataframe tbody tr th:only-of-type {\n",
       "        vertical-align: middle;\n",
       "    }\n",
       "\n",
       "    .dataframe tbody tr th {\n",
       "        vertical-align: top;\n",
       "    }\n",
       "\n",
       "    .dataframe thead th {\n",
       "        text-align: right;\n",
       "    }\n",
       "</style>\n",
       "<table border=\"1\" class=\"dataframe\">\n",
       "  <thead>\n",
       "    <tr style=\"text-align: right;\">\n",
       "      <th></th>\n",
       "      <th>ticket</th>\n",
       "      <th>total_fee_paid</th>\n",
       "    </tr>\n",
       "  </thead>\n",
       "  <tbody>\n",
       "    <tr>\n",
       "      <th>0</th>\n",
       "      <td>savonia</td>\n",
       "      <td>2.00</td>\n",
       "    </tr>\n",
       "    <tr>\n",
       "      <th>1</th>\n",
       "      <td>season</td>\n",
       "      <td>3.00</td>\n",
       "    </tr>\n",
       "    <tr>\n",
       "      <th>2</th>\n",
       "      <td>single</td>\n",
       "      <td>566.45</td>\n",
       "    </tr>\n",
       "  </tbody>\n",
       "</table>\n",
       "</div>"
      ],
      "text/plain": [
       "    ticket  total_fee_paid\n",
       "0  savonia            2.00\n",
       "1   season            3.00\n",
       "2   single          566.45"
      ]
     },
     "execution_count": 113,
     "metadata": {},
     "output_type": "execute_result"
    }
   ],
   "source": [
    "df_group_fee = df.loc[df.cost<50].groupby('ticket')['cost'].sum().reset_index(name='total_fee_paid')\n",
    "df_group_fee"
   ]
  },
  {
   "cell_type": "code",
   "execution_count": 114,
   "id": "97e0e78f",
   "metadata": {},
   "outputs": [],
   "source": [
    "df_group_merge = pd.merge(df_group_trip, df_group_fee, on=['ticket'])\n",
    "df_group_merge['fee_paid_per_trip'] = df_group_merge['total_fee_paid']/df_group_merge['trip']"
   ]
  },
  {
   "cell_type": "code",
   "execution_count": 115,
   "id": "46c88c74",
   "metadata": {},
   "outputs": [
    {
     "data": {
      "text/html": [
       "<div>\n",
       "<style scoped>\n",
       "    .dataframe tbody tr th:only-of-type {\n",
       "        vertical-align: middle;\n",
       "    }\n",
       "\n",
       "    .dataframe tbody tr th {\n",
       "        vertical-align: top;\n",
       "    }\n",
       "\n",
       "    .dataframe thead th {\n",
       "        text-align: right;\n",
       "    }\n",
       "</style>\n",
       "<table border=\"1\" class=\"dataframe\">\n",
       "  <thead>\n",
       "    <tr style=\"text-align: right;\">\n",
       "      <th></th>\n",
       "      <th>ticket</th>\n",
       "      <th>trip</th>\n",
       "      <th>total_fee_paid</th>\n",
       "      <th>fee_paid_per_trip</th>\n",
       "    </tr>\n",
       "  </thead>\n",
       "  <tbody>\n",
       "    <tr>\n",
       "      <th>0</th>\n",
       "      <td>savonia</td>\n",
       "      <td>252</td>\n",
       "      <td>2.00</td>\n",
       "      <td>0.007937</td>\n",
       "    </tr>\n",
       "    <tr>\n",
       "      <th>1</th>\n",
       "      <td>season</td>\n",
       "      <td>553</td>\n",
       "      <td>3.00</td>\n",
       "      <td>0.005425</td>\n",
       "    </tr>\n",
       "    <tr>\n",
       "      <th>2</th>\n",
       "      <td>single</td>\n",
       "      <td>966</td>\n",
       "      <td>566.45</td>\n",
       "      <td>0.586387</td>\n",
       "    </tr>\n",
       "  </tbody>\n",
       "</table>\n",
       "</div>"
      ],
      "text/plain": [
       "    ticket  trip  total_fee_paid  fee_paid_per_trip\n",
       "0  savonia   252            2.00           0.007937\n",
       "1   season   553            3.00           0.005425\n",
       "2   single   966          566.45           0.586387"
      ]
     },
     "execution_count": 115,
     "metadata": {},
     "output_type": "execute_result"
    }
   ],
   "source": [
    "df_group_merge"
   ]
  },
  {
   "cell_type": "markdown",
   "id": "69419e74",
   "metadata": {},
   "source": [
    "`Plot`"
   ]
  },
  {
   "cell_type": "code",
   "execution_count": 116,
   "id": "ae96f56f",
   "metadata": {},
   "outputs": [
    {
     "data": {
      "text/plain": [
       "<Axes: xlabel='ticket'>"
      ]
     },
     "execution_count": 116,
     "metadata": {},
     "output_type": "execute_result"
    },
    {
     "data": {
      "image/png": "[encoded data removed]",
      "text/plain": [
       "<Figure size 640x480 with 1 Axes>"
      ]
     },
     "metadata": {},
     "output_type": "display_data"
    }
   ],
   "source": [
    "df_group_merge.plot.bar('ticket', 'fee_paid_per_trip')"
   ]
  },
  {
   "cell_type": "markdown",
   "id": "8b1419eb",
   "metadata": {},
   "source": [
    "`Observation`"
   ]
  },
  {
   "cell_type": "markdown",
   "id": "8daf2adf",
   "metadata": {},
   "source": [
    "It's evident that the single ticket type pays more money for each trip, making them the most valuable customer segment. Based on this insight, the company's advertising efforts should prioritize and target the single ticket type to maximize revenue."
   ]
  },
  {
   "cell_type": "markdown",
   "id": "c28ff555",
   "metadata": {},
   "source": [
    "## Monthly Rental Activity"
   ]
  },
  {
   "cell_type": "markdown",
   "id": "a091f652",
   "metadata": {},
   "source": [
    "For each ticket type, visualise the monthly rental activity in terms of the total distance travelled. Examine your results and make comments about the development of the rental activity over time."
   ]
  },
  {
   "cell_type": "markdown",
   "id": "53c4cee9",
   "metadata": {},
   "source": [
    "`Plotted bar plot to better understand the distribution of distance travel per trip.`"
   ]
  },
  {
   "cell_type": "code",
   "execution_count": 118,
   "id": "5c1d9089",
   "metadata": {},
   "outputs": [
    {
     "data": {
      "text/plain": [
       "[Text(0, 0, '910'),\n",
       " Text(0, 0, '488'),\n",
       " Text(0, 0, '237'),\n",
       " Text(0, 0, '110'),\n",
       " Text(0, 0, '14'),\n",
       " Text(0, 0, '8'),\n",
       " Text(0, 0, '3'),\n",
       " Text(0, 0, '1'),\n",
       " Text(0, 0, '1'),\n",
       " Text(0, 0, '2')]"
      ]
     },
     "execution_count": 118,
     "metadata": {},
     "output_type": "execute_result"
    },
    {
     "data": {
      "image/png": "[encoded data removed]",
      "text/plain": [
       "<Figure size 640x480 with 1 Axes>"
      ]
     },
     "metadata": {},
     "output_type": "display_data"
    }
   ],
   "source": [
    "counts, edges, bars = plt.hist(df.distance, bins=10)\n",
    "\n",
    "plt.bar_label(bars)"
   ]
  },
  {
   "cell_type": "markdown",
   "id": "32e97ca3",
   "metadata": {},
   "source": [
    "`Rental activity for all months per ticket type.`"
   ]
  },
  {
   "cell_type": "code",
   "execution_count": 119,
   "id": "d15906d1",
   "metadata": {},
   "outputs": [
    {
     "data": {
      "text/plain": [
       "<Axes: xlabel='ticket'>"
      ]
     },
     "execution_count": 119,
     "metadata": {},
     "output_type": "execute_result"
    },
    {
     "data": {
      "image/png": "[encoded data removed]",
      "text/plain": [
       "<Figure size 640x480 with 1 Axes>"
      ]
     },
     "metadata": {},
     "output_type": "display_data"
    }
   ],
   "source": [
    "df.groupby('ticket')['distance'].sum().reset_index(name='total_distance').plot.bar('ticket', 'total_distance')"
   ]
  },
  {
   "cell_type": "markdown",
   "id": "3ce7b2ca",
   "metadata": {},
   "source": [
    "`Preparing data for monthly rental activity for every ticket type.`"
   ]
  },
  {
   "cell_type": "code",
   "execution_count": 120,
   "id": "32a12681",
   "metadata": {},
   "outputs": [],
   "source": [
    "df_rental_activity_over_time = df.groupby(['month', 'ticket'])['distance'].sum().reset_index(name='total_distance')"
   ]
  },
  {
   "cell_type": "code",
   "execution_count": 121,
   "id": "a4c8cf7d",
   "metadata": {},
   "outputs": [
    {
     "data": {
      "text/html": [
       "<div>\n",
       "<style scoped>\n",
       "    .dataframe tbody tr th:only-of-type {\n",
       "        vertical-align: middle;\n",
       "    }\n",
       "\n",
       "    .dataframe tbody tr th {\n",
       "        vertical-align: top;\n",
       "    }\n",
       "\n",
       "    .dataframe thead th {\n",
       "        text-align: right;\n",
       "    }\n",
       "</style>\n",
       "<table border=\"1\" class=\"dataframe\">\n",
       "  <thead>\n",
       "    <tr style=\"text-align: right;\">\n",
       "      <th></th>\n",
       "      <th>month</th>\n",
       "      <th>ticket</th>\n",
       "      <th>total_distance</th>\n",
       "    </tr>\n",
       "  </thead>\n",
       "  <tbody>\n",
       "    <tr>\n",
       "      <th>0</th>\n",
       "      <td>4</td>\n",
       "      <td>season</td>\n",
       "      <td>30680</td>\n",
       "    </tr>\n",
       "    <tr>\n",
       "      <th>1</th>\n",
       "      <td>4</td>\n",
       "      <td>single</td>\n",
       "      <td>36170</td>\n",
       "    </tr>\n",
       "    <tr>\n",
       "      <th>2</th>\n",
       "      <td>5</td>\n",
       "      <td>season</td>\n",
       "      <td>258550</td>\n",
       "    </tr>\n",
       "    <tr>\n",
       "      <th>3</th>\n",
       "      <td>5</td>\n",
       "      <td>single</td>\n",
       "      <td>495850</td>\n",
       "    </tr>\n",
       "    <tr>\n",
       "      <th>4</th>\n",
       "      <td>6</td>\n",
       "      <td>season</td>\n",
       "      <td>244780</td>\n",
       "    </tr>\n",
       "    <tr>\n",
       "      <th>5</th>\n",
       "      <td>6</td>\n",
       "      <td>single</td>\n",
       "      <td>710240</td>\n",
       "    </tr>\n",
       "    <tr>\n",
       "      <th>6</th>\n",
       "      <td>7</td>\n",
       "      <td>season</td>\n",
       "      <td>268150</td>\n",
       "    </tr>\n",
       "    <tr>\n",
       "      <th>7</th>\n",
       "      <td>7</td>\n",
       "      <td>single</td>\n",
       "      <td>594890</td>\n",
       "    </tr>\n",
       "    <tr>\n",
       "      <th>8</th>\n",
       "      <td>8</td>\n",
       "      <td>season</td>\n",
       "      <td>218270</td>\n",
       "    </tr>\n",
       "    <tr>\n",
       "      <th>9</th>\n",
       "      <td>8</td>\n",
       "      <td>single</td>\n",
       "      <td>362560</td>\n",
       "    </tr>\n",
       "    <tr>\n",
       "      <th>10</th>\n",
       "      <td>9</td>\n",
       "      <td>savonia</td>\n",
       "      <td>244500</td>\n",
       "    </tr>\n",
       "    <tr>\n",
       "      <th>11</th>\n",
       "      <td>9</td>\n",
       "      <td>season</td>\n",
       "      <td>184840</td>\n",
       "    </tr>\n",
       "    <tr>\n",
       "      <th>12</th>\n",
       "      <td>9</td>\n",
       "      <td>single</td>\n",
       "      <td>240370</td>\n",
       "    </tr>\n",
       "    <tr>\n",
       "      <th>13</th>\n",
       "      <td>10</td>\n",
       "      <td>savonia</td>\n",
       "      <td>255380</td>\n",
       "    </tr>\n",
       "    <tr>\n",
       "      <th>14</th>\n",
       "      <td>10</td>\n",
       "      <td>season</td>\n",
       "      <td>110610</td>\n",
       "    </tr>\n",
       "    <tr>\n",
       "      <th>15</th>\n",
       "      <td>10</td>\n",
       "      <td>single</td>\n",
       "      <td>134280</td>\n",
       "    </tr>\n",
       "  </tbody>\n",
       "</table>\n",
       "</div>"
      ],
      "text/plain": [
       "    month   ticket  total_distance\n",
       "0       4   season           30680\n",
       "1       4   single           36170\n",
       "2       5   season          258550\n",
       "3       5   single          495850\n",
       "4       6   season          244780\n",
       "5       6   single          710240\n",
       "6       7   season          268150\n",
       "7       7   single          594890\n",
       "8       8   season          218270\n",
       "9       8   single          362560\n",
       "10      9  savonia          244500\n",
       "11      9   season          184840\n",
       "12      9   single          240370\n",
       "13     10  savonia          255380\n",
       "14     10   season          110610\n",
       "15     10   single          134280"
      ]
     },
     "execution_count": 121,
     "metadata": {},
     "output_type": "execute_result"
    }
   ],
   "source": [
    "df_rental_activity_over_time"
   ]
  },
  {
   "cell_type": "markdown",
   "id": "5cd463f8",
   "metadata": {},
   "source": [
    "`Plot the monthly rental activity for each ticket type.`"
   ]
  },
  {
   "cell_type": "code",
   "execution_count": 123,
   "id": "adb3988f",
   "metadata": {},
   "outputs": [
    {
     "data": {
      "image/png": "[encoded data removed]",
      "text/plain": [
       "<Figure size 640x480 with 1 Axes>"
      ]
     },
     "metadata": {},
     "output_type": "display_data"
    }
   ],
   "source": [
    "# create a line plot for each ticket type\n",
    "for ticket_type in df_rental_activity_over_time['ticket'].unique():\n",
    "    df_rental_activity_over_time_per_ticket = df_rental_activity_over_time[df_rental_activity_over_time['ticket'] == ticket_type]\n",
    "    \n",
    "    plt.plot(df_rental_activity_over_time_per_ticket['month'], \n",
    "             df_rental_activity_over_time_per_ticket['total_distance'], \n",
    "             label=ticket_type)\n",
    "\n",
    "# set the title and axis labels\n",
    "plt.title('Monthly Rental Activity (total distance per month) vs Ticket Type')\n",
    "plt.xlabel('Month')\n",
    "plt.ylabel('Monthly Rental Activity')\n",
    "\n",
    "# add a legend and show the plot\n",
    "plt.legend()\n",
    "plt.show()"
   ]
  },
  {
   "cell_type": "markdown",
   "id": "22effa5f",
   "metadata": {},
   "source": [
    "`comments about the development of the rental activity over time`"
   ]
  },
  {
   "cell_type": "markdown",
   "id": "f64a249e",
   "metadata": {},
   "source": [
    "1. It's evident from the plot that there is a substantial increase in rental activity during the summer, while rental activity during the winter is almost negligible for all ticket types.\n",
    "\n",
    "2. The peak rental activity occurs around the 6th and 7th months of the year, indicating a strong seasonal pattern in bike rentals.\n",
    "\n",
    "3. Currently, the single ticket type exhibits the highest rental activity for most months.\n",
    "\n",
    "4. Savonia is a relatively new ticket type compared to season and single, but it has gained popularity quickly since its introduction from last few months. However, it's challenging to make predictions about its future performance due to the limited data available for Savonia."
   ]
  },
  {
   "cell_type": "markdown",
   "id": "aaa52074",
   "metadata": {},
   "source": [
    "## Find Station Availability"
   ]
  },
  {
   "cell_type": "markdown",
   "id": "bfcc4470",
   "metadata": {},
   "source": [
    "Find the three stations that have the highest total deficit of bikes (i.e. the largest negative difference between the number of arrived bikes and the number of departured bikes) and the three stations that have the highest total surplus of bikes (i.e. the largest positive difference). Examine your results and make suggestions about how bikes could be relocated."
   ]
  },
  {
   "cell_type": "markdown",
   "id": "b326ae49",
   "metadata": {},
   "source": [
    "`Calculate total number of bike departure from location`"
   ]
  },
  {
   "cell_type": "code",
   "execution_count": 124,
   "id": "1b635e46",
   "metadata": {},
   "outputs": [
    {
     "data": {
      "text/html": [
       "<div>\n",
       "<style scoped>\n",
       "    .dataframe tbody tr th:only-of-type {\n",
       "        vertical-align: middle;\n",
       "    }\n",
       "\n",
       "    .dataframe tbody tr th {\n",
       "        vertical-align: top;\n",
       "    }\n",
       "\n",
       "    .dataframe thead th {\n",
       "        text-align: right;\n",
       "    }\n",
       "</style>\n",
       "<table border=\"1\" class=\"dataframe\">\n",
       "  <thead>\n",
       "    <tr style=\"text-align: right;\">\n",
       "      <th></th>\n",
       "      <th>location_from</th>\n",
       "      <th>no_of_bike_departured</th>\n",
       "      <th>location</th>\n",
       "    </tr>\n",
       "  </thead>\n",
       "  <tbody>\n",
       "    <tr>\n",
       "      <th>0</th>\n",
       "      <td>TORI</td>\n",
       "      <td>418</td>\n",
       "      <td>TORI</td>\n",
       "    </tr>\n",
       "    <tr>\n",
       "      <th>1</th>\n",
       "      <td>KAUPPAKATU</td>\n",
       "      <td>237</td>\n",
       "      <td>KAUPPAKATU</td>\n",
       "    </tr>\n",
       "    <tr>\n",
       "      <th>2</th>\n",
       "      <td>SATAMA</td>\n",
       "      <td>200</td>\n",
       "      <td>SATAMA</td>\n",
       "    </tr>\n",
       "    <tr>\n",
       "      <th>3</th>\n",
       "      <td>MICROTEKNIA</td>\n",
       "      <td>182</td>\n",
       "      <td>MICROTEKNIA</td>\n",
       "    </tr>\n",
       "    <tr>\n",
       "      <th>4</th>\n",
       "      <td>PUIJONLAAKSO</td>\n",
       "      <td>161</td>\n",
       "      <td>PUIJONLAAKSO</td>\n",
       "    </tr>\n",
       "    <tr>\n",
       "      <th>5</th>\n",
       "      <td>NEULAMÄKI</td>\n",
       "      <td>157</td>\n",
       "      <td>NEULAMÄKI</td>\n",
       "    </tr>\n",
       "    <tr>\n",
       "      <th>6</th>\n",
       "      <td>KEILANKANTA</td>\n",
       "      <td>153</td>\n",
       "      <td>KEILANKANTA</td>\n",
       "    </tr>\n",
       "    <tr>\n",
       "      <th>7</th>\n",
       "      <td>TASAVALLANKATU</td>\n",
       "      <td>144</td>\n",
       "      <td>TASAVALLANKATU</td>\n",
       "    </tr>\n",
       "    <tr>\n",
       "      <th>8</th>\n",
       "      <td>KYS</td>\n",
       "      <td>94</td>\n",
       "      <td>KYS</td>\n",
       "    </tr>\n",
       "    <tr>\n",
       "      <th>9</th>\n",
       "      <td>PIRTTI</td>\n",
       "      <td>28</td>\n",
       "      <td>PIRTTI</td>\n",
       "    </tr>\n",
       "  </tbody>\n",
       "</table>\n",
       "</div>"
      ],
      "text/plain": [
       "    location_from  no_of_bike_departured        location\n",
       "0            TORI                    418            TORI\n",
       "1      KAUPPAKATU                    237      KAUPPAKATU\n",
       "2          SATAMA                    200          SATAMA\n",
       "3     MICROTEKNIA                    182     MICROTEKNIA\n",
       "4    PUIJONLAAKSO                    161    PUIJONLAAKSO\n",
       "5       NEULAMÄKI                    157       NEULAMÄKI\n",
       "6     KEILANKANTA                    153     KEILANKANTA\n",
       "7  TASAVALLANKATU                    144  TASAVALLANKATU\n",
       "8             KYS                     94             KYS\n",
       "9          PIRTTI                     28          PIRTTI"
      ]
     },
     "execution_count": 124,
     "metadata": {},
     "output_type": "execute_result"
    }
   ],
   "source": [
    "df_departured_count = df.location_from.value_counts().reset_index(name='no_of_bike_departured')\n",
    "df_departured_count['location'] = df_departured_count['location_from']\n",
    "df_departured_count"
   ]
  },
  {
   "cell_type": "markdown",
   "id": "cf6157aa",
   "metadata": {},
   "source": [
    "`Calculate total number of bike arrived to location`"
   ]
  },
  {
   "cell_type": "code",
   "execution_count": 125,
   "id": "69d49eff",
   "metadata": {},
   "outputs": [
    {
     "data": {
      "text/html": [
       "<div>\n",
       "<style scoped>\n",
       "    .dataframe tbody tr th:only-of-type {\n",
       "        vertical-align: middle;\n",
       "    }\n",
       "\n",
       "    .dataframe tbody tr th {\n",
       "        vertical-align: top;\n",
       "    }\n",
       "\n",
       "    .dataframe thead th {\n",
       "        text-align: right;\n",
       "    }\n",
       "</style>\n",
       "<table border=\"1\" class=\"dataframe\">\n",
       "  <thead>\n",
       "    <tr style=\"text-align: right;\">\n",
       "      <th></th>\n",
       "      <th>location_to</th>\n",
       "      <th>no_of_bike_arrived</th>\n",
       "      <th>location</th>\n",
       "    </tr>\n",
       "  </thead>\n",
       "  <tbody>\n",
       "    <tr>\n",
       "      <th>0</th>\n",
       "      <td>TORI</td>\n",
       "      <td>400</td>\n",
       "      <td>TORI</td>\n",
       "    </tr>\n",
       "    <tr>\n",
       "      <th>1</th>\n",
       "      <td>KAUPPAKATU</td>\n",
       "      <td>287</td>\n",
       "      <td>KAUPPAKATU</td>\n",
       "    </tr>\n",
       "    <tr>\n",
       "      <th>2</th>\n",
       "      <td>PUIJONLAAKSO</td>\n",
       "      <td>190</td>\n",
       "      <td>PUIJONLAAKSO</td>\n",
       "    </tr>\n",
       "    <tr>\n",
       "      <th>3</th>\n",
       "      <td>MICROTEKNIA</td>\n",
       "      <td>176</td>\n",
       "      <td>MICROTEKNIA</td>\n",
       "    </tr>\n",
       "    <tr>\n",
       "      <th>4</th>\n",
       "      <td>SATAMA</td>\n",
       "      <td>163</td>\n",
       "      <td>SATAMA</td>\n",
       "    </tr>\n",
       "    <tr>\n",
       "      <th>5</th>\n",
       "      <td>TASAVALLANKATU</td>\n",
       "      <td>156</td>\n",
       "      <td>TASAVALLANKATU</td>\n",
       "    </tr>\n",
       "    <tr>\n",
       "      <th>6</th>\n",
       "      <td>NEULAMÄKI</td>\n",
       "      <td>155</td>\n",
       "      <td>NEULAMÄKI</td>\n",
       "    </tr>\n",
       "    <tr>\n",
       "      <th>7</th>\n",
       "      <td>KEILANKANTA</td>\n",
       "      <td>142</td>\n",
       "      <td>KEILANKANTA</td>\n",
       "    </tr>\n",
       "    <tr>\n",
       "      <th>8</th>\n",
       "      <td>KYS</td>\n",
       "      <td>75</td>\n",
       "      <td>KYS</td>\n",
       "    </tr>\n",
       "    <tr>\n",
       "      <th>9</th>\n",
       "      <td>PIRTTI</td>\n",
       "      <td>30</td>\n",
       "      <td>PIRTTI</td>\n",
       "    </tr>\n",
       "  </tbody>\n",
       "</table>\n",
       "</div>"
      ],
      "text/plain": [
       "      location_to  no_of_bike_arrived        location\n",
       "0            TORI                 400            TORI\n",
       "1      KAUPPAKATU                 287      KAUPPAKATU\n",
       "2    PUIJONLAAKSO                 190    PUIJONLAAKSO\n",
       "3     MICROTEKNIA                 176     MICROTEKNIA\n",
       "4          SATAMA                 163          SATAMA\n",
       "5  TASAVALLANKATU                 156  TASAVALLANKATU\n",
       "6       NEULAMÄKI                 155       NEULAMÄKI\n",
       "7     KEILANKANTA                 142     KEILANKANTA\n",
       "8             KYS                  75             KYS\n",
       "9          PIRTTI                  30          PIRTTI"
      ]
     },
     "execution_count": 125,
     "metadata": {},
     "output_type": "execute_result"
    }
   ],
   "source": [
    "df_arrived_count = df.location_to.value_counts().reset_index(name='no_of_bike_arrived')\n",
    "df_arrived_count['location'] = df_arrived_count['location_to']\n",
    "df_arrived_count"
   ]
  },
  {
   "cell_type": "markdown",
   "id": "9ed0008a",
   "metadata": {},
   "source": [
    "`Merge these two data frame for futher calculation`"
   ]
  },
  {
   "cell_type": "code",
   "execution_count": 126,
   "id": "17ae189b",
   "metadata": {},
   "outputs": [
    {
     "data": {
      "text/html": [
       "<div>\n",
       "<style scoped>\n",
       "    .dataframe tbody tr th:only-of-type {\n",
       "        vertical-align: middle;\n",
       "    }\n",
       "\n",
       "    .dataframe tbody tr th {\n",
       "        vertical-align: top;\n",
       "    }\n",
       "\n",
       "    .dataframe thead th {\n",
       "        text-align: right;\n",
       "    }\n",
       "</style>\n",
       "<table border=\"1\" class=\"dataframe\">\n",
       "  <thead>\n",
       "    <tr style=\"text-align: right;\">\n",
       "      <th></th>\n",
       "      <th>location_from</th>\n",
       "      <th>no_of_bike_departured</th>\n",
       "      <th>location</th>\n",
       "      <th>location_to</th>\n",
       "      <th>no_of_bike_arrived</th>\n",
       "    </tr>\n",
       "  </thead>\n",
       "  <tbody>\n",
       "    <tr>\n",
       "      <th>0</th>\n",
       "      <td>TORI</td>\n",
       "      <td>418</td>\n",
       "      <td>TORI</td>\n",
       "      <td>TORI</td>\n",
       "      <td>400</td>\n",
       "    </tr>\n",
       "    <tr>\n",
       "      <th>1</th>\n",
       "      <td>KAUPPAKATU</td>\n",
       "      <td>237</td>\n",
       "      <td>KAUPPAKATU</td>\n",
       "      <td>KAUPPAKATU</td>\n",
       "      <td>287</td>\n",
       "    </tr>\n",
       "    <tr>\n",
       "      <th>2</th>\n",
       "      <td>SATAMA</td>\n",
       "      <td>200</td>\n",
       "      <td>SATAMA</td>\n",
       "      <td>SATAMA</td>\n",
       "      <td>163</td>\n",
       "    </tr>\n",
       "    <tr>\n",
       "      <th>3</th>\n",
       "      <td>MICROTEKNIA</td>\n",
       "      <td>182</td>\n",
       "      <td>MICROTEKNIA</td>\n",
       "      <td>MICROTEKNIA</td>\n",
       "      <td>176</td>\n",
       "    </tr>\n",
       "    <tr>\n",
       "      <th>4</th>\n",
       "      <td>PUIJONLAAKSO</td>\n",
       "      <td>161</td>\n",
       "      <td>PUIJONLAAKSO</td>\n",
       "      <td>PUIJONLAAKSO</td>\n",
       "      <td>190</td>\n",
       "    </tr>\n",
       "    <tr>\n",
       "      <th>5</th>\n",
       "      <td>NEULAMÄKI</td>\n",
       "      <td>157</td>\n",
       "      <td>NEULAMÄKI</td>\n",
       "      <td>NEULAMÄKI</td>\n",
       "      <td>155</td>\n",
       "    </tr>\n",
       "    <tr>\n",
       "      <th>6</th>\n",
       "      <td>KEILANKANTA</td>\n",
       "      <td>153</td>\n",
       "      <td>KEILANKANTA</td>\n",
       "      <td>KEILANKANTA</td>\n",
       "      <td>142</td>\n",
       "    </tr>\n",
       "    <tr>\n",
       "      <th>7</th>\n",
       "      <td>TASAVALLANKATU</td>\n",
       "      <td>144</td>\n",
       "      <td>TASAVALLANKATU</td>\n",
       "      <td>TASAVALLANKATU</td>\n",
       "      <td>156</td>\n",
       "    </tr>\n",
       "    <tr>\n",
       "      <th>8</th>\n",
       "      <td>KYS</td>\n",
       "      <td>94</td>\n",
       "      <td>KYS</td>\n",
       "      <td>KYS</td>\n",
       "      <td>75</td>\n",
       "    </tr>\n",
       "    <tr>\n",
       "      <th>9</th>\n",
       "      <td>PIRTTI</td>\n",
       "      <td>28</td>\n",
       "      <td>PIRTTI</td>\n",
       "      <td>PIRTTI</td>\n",
       "      <td>30</td>\n",
       "    </tr>\n",
       "  </tbody>\n",
       "</table>\n",
       "</div>"
      ],
      "text/plain": [
       "    location_from  no_of_bike_departured        location     location_to  \\\n",
       "0            TORI                    418            TORI            TORI   \n",
       "1      KAUPPAKATU                    237      KAUPPAKATU      KAUPPAKATU   \n",
       "2          SATAMA                    200          SATAMA          SATAMA   \n",
       "3     MICROTEKNIA                    182     MICROTEKNIA     MICROTEKNIA   \n",
       "4    PUIJONLAAKSO                    161    PUIJONLAAKSO    PUIJONLAAKSO   \n",
       "5       NEULAMÄKI                    157       NEULAMÄKI       NEULAMÄKI   \n",
       "6     KEILANKANTA                    153     KEILANKANTA     KEILANKANTA   \n",
       "7  TASAVALLANKATU                    144  TASAVALLANKATU  TASAVALLANKATU   \n",
       "8             KYS                     94             KYS             KYS   \n",
       "9          PIRTTI                     28          PIRTTI          PIRTTI   \n",
       "\n",
       "   no_of_bike_arrived  \n",
       "0                 400  \n",
       "1                 287  \n",
       "2                 163  \n",
       "3                 176  \n",
       "4                 190  \n",
       "5                 155  \n",
       "6                 142  \n",
       "7                 156  \n",
       "8                  75  \n",
       "9                  30  "
      ]
     },
     "execution_count": 126,
     "metadata": {},
     "output_type": "execute_result"
    }
   ],
   "source": [
    "df_departured_arrived_count = pd.merge(df_departured_count, df_arrived_count, on='location', how='inner')\n",
    "df_departured_arrived_count"
   ]
  },
  {
   "cell_type": "markdown",
   "id": "fdf05f25",
   "metadata": {},
   "source": [
    "`Calculate net bike remain at each location`"
   ]
  },
  {
   "cell_type": "code",
   "execution_count": 127,
   "id": "72f19e76",
   "metadata": {},
   "outputs": [],
   "source": [
    "df_departured_arrived_count['net_bike_remain'] = (df_departured_arrived_count['no_of_bike_arrived']-\n",
    "                                                  df_departured_arrived_count['no_of_bike_departured'])"
   ]
  },
  {
   "cell_type": "code",
   "execution_count": 128,
   "id": "4bc031ca",
   "metadata": {},
   "outputs": [
    {
     "data": {
      "text/html": [
       "<div>\n",
       "<style scoped>\n",
       "    .dataframe tbody tr th:only-of-type {\n",
       "        vertical-align: middle;\n",
       "    }\n",
       "\n",
       "    .dataframe tbody tr th {\n",
       "        vertical-align: top;\n",
       "    }\n",
       "\n",
       "    .dataframe thead th {\n",
       "        text-align: right;\n",
       "    }\n",
       "</style>\n",
       "<table border=\"1\" class=\"dataframe\">\n",
       "  <thead>\n",
       "    <tr style=\"text-align: right;\">\n",
       "      <th></th>\n",
       "      <th>location_from</th>\n",
       "      <th>no_of_bike_departured</th>\n",
       "      <th>location</th>\n",
       "      <th>location_to</th>\n",
       "      <th>no_of_bike_arrived</th>\n",
       "      <th>net_bike_remain</th>\n",
       "    </tr>\n",
       "  </thead>\n",
       "  <tbody>\n",
       "    <tr>\n",
       "      <th>0</th>\n",
       "      <td>TORI</td>\n",
       "      <td>418</td>\n",
       "      <td>TORI</td>\n",
       "      <td>TORI</td>\n",
       "      <td>400</td>\n",
       "      <td>-18</td>\n",
       "    </tr>\n",
       "    <tr>\n",
       "      <th>1</th>\n",
       "      <td>KAUPPAKATU</td>\n",
       "      <td>237</td>\n",
       "      <td>KAUPPAKATU</td>\n",
       "      <td>KAUPPAKATU</td>\n",
       "      <td>287</td>\n",
       "      <td>50</td>\n",
       "    </tr>\n",
       "    <tr>\n",
       "      <th>2</th>\n",
       "      <td>SATAMA</td>\n",
       "      <td>200</td>\n",
       "      <td>SATAMA</td>\n",
       "      <td>SATAMA</td>\n",
       "      <td>163</td>\n",
       "      <td>-37</td>\n",
       "    </tr>\n",
       "    <tr>\n",
       "      <th>3</th>\n",
       "      <td>MICROTEKNIA</td>\n",
       "      <td>182</td>\n",
       "      <td>MICROTEKNIA</td>\n",
       "      <td>MICROTEKNIA</td>\n",
       "      <td>176</td>\n",
       "      <td>-6</td>\n",
       "    </tr>\n",
       "    <tr>\n",
       "      <th>4</th>\n",
       "      <td>PUIJONLAAKSO</td>\n",
       "      <td>161</td>\n",
       "      <td>PUIJONLAAKSO</td>\n",
       "      <td>PUIJONLAAKSO</td>\n",
       "      <td>190</td>\n",
       "      <td>29</td>\n",
       "    </tr>\n",
       "    <tr>\n",
       "      <th>5</th>\n",
       "      <td>NEULAMÄKI</td>\n",
       "      <td>157</td>\n",
       "      <td>NEULAMÄKI</td>\n",
       "      <td>NEULAMÄKI</td>\n",
       "      <td>155</td>\n",
       "      <td>-2</td>\n",
       "    </tr>\n",
       "    <tr>\n",
       "      <th>6</th>\n",
       "      <td>KEILANKANTA</td>\n",
       "      <td>153</td>\n",
       "      <td>KEILANKANTA</td>\n",
       "      <td>KEILANKANTA</td>\n",
       "      <td>142</td>\n",
       "      <td>-11</td>\n",
       "    </tr>\n",
       "    <tr>\n",
       "      <th>7</th>\n",
       "      <td>TASAVALLANKATU</td>\n",
       "      <td>144</td>\n",
       "      <td>TASAVALLANKATU</td>\n",
       "      <td>TASAVALLANKATU</td>\n",
       "      <td>156</td>\n",
       "      <td>12</td>\n",
       "    </tr>\n",
       "    <tr>\n",
       "      <th>8</th>\n",
       "      <td>KYS</td>\n",
       "      <td>94</td>\n",
       "      <td>KYS</td>\n",
       "      <td>KYS</td>\n",
       "      <td>75</td>\n",
       "      <td>-19</td>\n",
       "    </tr>\n",
       "    <tr>\n",
       "      <th>9</th>\n",
       "      <td>PIRTTI</td>\n",
       "      <td>28</td>\n",
       "      <td>PIRTTI</td>\n",
       "      <td>PIRTTI</td>\n",
       "      <td>30</td>\n",
       "      <td>2</td>\n",
       "    </tr>\n",
       "  </tbody>\n",
       "</table>\n",
       "</div>"
      ],
      "text/plain": [
       "    location_from  no_of_bike_departured        location     location_to  \\\n",
       "0            TORI                    418            TORI            TORI   \n",
       "1      KAUPPAKATU                    237      KAUPPAKATU      KAUPPAKATU   \n",
       "2          SATAMA                    200          SATAMA          SATAMA   \n",
       "3     MICROTEKNIA                    182     MICROTEKNIA     MICROTEKNIA   \n",
       "4    PUIJONLAAKSO                    161    PUIJONLAAKSO    PUIJONLAAKSO   \n",
       "5       NEULAMÄKI                    157       NEULAMÄKI       NEULAMÄKI   \n",
       "6     KEILANKANTA                    153     KEILANKANTA     KEILANKANTA   \n",
       "7  TASAVALLANKATU                    144  TASAVALLANKATU  TASAVALLANKATU   \n",
       "8             KYS                     94             KYS             KYS   \n",
       "9          PIRTTI                     28          PIRTTI          PIRTTI   \n",
       "\n",
       "   no_of_bike_arrived  net_bike_remain  \n",
       "0                 400              -18  \n",
       "1                 287               50  \n",
       "2                 163              -37  \n",
       "3                 176               -6  \n",
       "4                 190               29  \n",
       "5                 155               -2  \n",
       "6                 142              -11  \n",
       "7                 156               12  \n",
       "8                  75              -19  \n",
       "9                  30                2  "
      ]
     },
     "execution_count": 128,
     "metadata": {},
     "output_type": "execute_result"
    }
   ],
   "source": [
    "df_departured_arrived_count"
   ]
  },
  {
   "cell_type": "markdown",
   "id": "fb3ded03",
   "metadata": {},
   "source": [
    "`Highest total deficit of bikes`"
   ]
  },
  {
   "cell_type": "code",
   "execution_count": 90,
   "id": "54791968",
   "metadata": {
    "scrolled": true
   },
   "outputs": [
    {
     "data": {
      "text/html": [
       "<div>\n",
       "<style scoped>\n",
       "    .dataframe tbody tr th:only-of-type {\n",
       "        vertical-align: middle;\n",
       "    }\n",
       "\n",
       "    .dataframe tbody tr th {\n",
       "        vertical-align: top;\n",
       "    }\n",
       "\n",
       "    .dataframe thead th {\n",
       "        text-align: right;\n",
       "    }\n",
       "</style>\n",
       "<table border=\"1\" class=\"dataframe\">\n",
       "  <thead>\n",
       "    <tr style=\"text-align: right;\">\n",
       "      <th></th>\n",
       "      <th>location_from</th>\n",
       "      <th>no_of_bike_departured</th>\n",
       "      <th>location</th>\n",
       "      <th>location_to</th>\n",
       "      <th>no_of_bike_arrived</th>\n",
       "      <th>net_bike_remain</th>\n",
       "    </tr>\n",
       "  </thead>\n",
       "  <tbody>\n",
       "    <tr>\n",
       "      <th>2</th>\n",
       "      <td>SATAMA</td>\n",
       "      <td>200</td>\n",
       "      <td>SATAMA</td>\n",
       "      <td>SATAMA</td>\n",
       "      <td>163</td>\n",
       "      <td>-37</td>\n",
       "    </tr>\n",
       "    <tr>\n",
       "      <th>8</th>\n",
       "      <td>KYS</td>\n",
       "      <td>94</td>\n",
       "      <td>KYS</td>\n",
       "      <td>KYS</td>\n",
       "      <td>75</td>\n",
       "      <td>-19</td>\n",
       "    </tr>\n",
       "    <tr>\n",
       "      <th>0</th>\n",
       "      <td>TORI</td>\n",
       "      <td>418</td>\n",
       "      <td>TORI</td>\n",
       "      <td>TORI</td>\n",
       "      <td>400</td>\n",
       "      <td>-18</td>\n",
       "    </tr>\n",
       "  </tbody>\n",
       "</table>\n",
       "</div>"
      ],
      "text/plain": [
       "  location_from  no_of_bike_departured location location_to  \\\n",
       "2        SATAMA                    200   SATAMA      SATAMA   \n",
       "8           KYS                     94      KYS         KYS   \n",
       "0          TORI                    418     TORI        TORI   \n",
       "\n",
       "   no_of_bike_arrived  net_bike_remain  \n",
       "2                 163              -37  \n",
       "8                  75              -19  \n",
       "0                 400              -18  "
      ]
     },
     "execution_count": 90,
     "metadata": {},
     "output_type": "execute_result"
    }
   ],
   "source": [
    "df_departured_arrived_count.nsmallest(3, 'net_bike_remain')"
   ]
  },
  {
   "cell_type": "markdown",
   "id": "a38eb69a",
   "metadata": {},
   "source": [
    "`highest total surplus of bikes`"
   ]
  },
  {
   "cell_type": "code",
   "execution_count": 129,
   "id": "0c318619",
   "metadata": {},
   "outputs": [
    {
     "data": {
      "text/html": [
       "<div>\n",
       "<style scoped>\n",
       "    .dataframe tbody tr th:only-of-type {\n",
       "        vertical-align: middle;\n",
       "    }\n",
       "\n",
       "    .dataframe tbody tr th {\n",
       "        vertical-align: top;\n",
       "    }\n",
       "\n",
       "    .dataframe thead th {\n",
       "        text-align: right;\n",
       "    }\n",
       "</style>\n",
       "<table border=\"1\" class=\"dataframe\">\n",
       "  <thead>\n",
       "    <tr style=\"text-align: right;\">\n",
       "      <th></th>\n",
       "      <th>location_from</th>\n",
       "      <th>no_of_bike_departured</th>\n",
       "      <th>location</th>\n",
       "      <th>location_to</th>\n",
       "      <th>no_of_bike_arrived</th>\n",
       "      <th>net_bike_remain</th>\n",
       "    </tr>\n",
       "  </thead>\n",
       "  <tbody>\n",
       "    <tr>\n",
       "      <th>1</th>\n",
       "      <td>KAUPPAKATU</td>\n",
       "      <td>237</td>\n",
       "      <td>KAUPPAKATU</td>\n",
       "      <td>KAUPPAKATU</td>\n",
       "      <td>287</td>\n",
       "      <td>50</td>\n",
       "    </tr>\n",
       "    <tr>\n",
       "      <th>4</th>\n",
       "      <td>PUIJONLAAKSO</td>\n",
       "      <td>161</td>\n",
       "      <td>PUIJONLAAKSO</td>\n",
       "      <td>PUIJONLAAKSO</td>\n",
       "      <td>190</td>\n",
       "      <td>29</td>\n",
       "    </tr>\n",
       "    <tr>\n",
       "      <th>7</th>\n",
       "      <td>TASAVALLANKATU</td>\n",
       "      <td>144</td>\n",
       "      <td>TASAVALLANKATU</td>\n",
       "      <td>TASAVALLANKATU</td>\n",
       "      <td>156</td>\n",
       "      <td>12</td>\n",
       "    </tr>\n",
       "  </tbody>\n",
       "</table>\n",
       "</div>"
      ],
      "text/plain": [
       "    location_from  no_of_bike_departured        location     location_to  \\\n",
       "1      KAUPPAKATU                    237      KAUPPAKATU      KAUPPAKATU   \n",
       "4    PUIJONLAAKSO                    161    PUIJONLAAKSO    PUIJONLAAKSO   \n",
       "7  TASAVALLANKATU                    144  TASAVALLANKATU  TASAVALLANKATU   \n",
       "\n",
       "   no_of_bike_arrived  net_bike_remain  \n",
       "1                 287               50  \n",
       "4                 190               29  \n",
       "7                 156               12  "
      ]
     },
     "execution_count": 129,
     "metadata": {},
     "output_type": "execute_result"
    }
   ],
   "source": [
    "df_departured_arrived_count.nlargest(3, 'net_bike_remain')"
   ]
  },
  {
   "cell_type": "markdown",
   "id": "285ea773",
   "metadata": {},
   "source": [
    "`other analysis`"
   ]
  },
  {
   "cell_type": "markdown",
   "id": "63163c97",
   "metadata": {},
   "source": [
    "Mean of column net_bike_remain is zero"
   ]
  },
  {
   "cell_type": "code",
   "execution_count": 131,
   "id": "34af4eda",
   "metadata": {},
   "outputs": [
    {
     "data": {
      "text/plain": [
       "0.0"
      ]
     },
     "execution_count": 131,
     "metadata": {},
     "output_type": "execute_result"
    }
   ],
   "source": [
    "df_departured_arrived_count.net_bike_remain.mean()"
   ]
  },
  {
   "cell_type": "markdown",
   "id": "e42d9f3a",
   "metadata": {},
   "source": [
    "Total net bike surplus location"
   ]
  },
  {
   "cell_type": "code",
   "execution_count": 133,
   "id": "a9b839bb",
   "metadata": {},
   "outputs": [
    {
     "data": {
      "text/plain": [
       "4"
      ]
     },
     "execution_count": 133,
     "metadata": {},
     "output_type": "execute_result"
    }
   ],
   "source": [
    "(df_departured_arrived_count.net_bike_remain>0).sum()"
   ]
  },
  {
   "cell_type": "markdown",
   "id": "4f003dfd",
   "metadata": {},
   "source": [
    "`KAUPPAKATU and PUIJONLAAKSO locations have more than 80% of total surplus supply`"
   ]
  },
  {
   "cell_type": "code",
   "execution_count": 139,
   "id": "1a36c9a5",
   "metadata": {},
   "outputs": [
    {
     "data": {
      "text/html": [
       "<div>\n",
       "<style scoped>\n",
       "    .dataframe tbody tr th:only-of-type {\n",
       "        vertical-align: middle;\n",
       "    }\n",
       "\n",
       "    .dataframe tbody tr th {\n",
       "        vertical-align: top;\n",
       "    }\n",
       "\n",
       "    .dataframe thead th {\n",
       "        text-align: right;\n",
       "    }\n",
       "</style>\n",
       "<table border=\"1\" class=\"dataframe\">\n",
       "  <thead>\n",
       "    <tr style=\"text-align: right;\">\n",
       "      <th></th>\n",
       "      <th>location_from</th>\n",
       "      <th>no_of_bike_departured</th>\n",
       "      <th>location</th>\n",
       "      <th>location_to</th>\n",
       "      <th>no_of_bike_arrived</th>\n",
       "      <th>net_bike_remain</th>\n",
       "    </tr>\n",
       "  </thead>\n",
       "  <tbody>\n",
       "    <tr>\n",
       "      <th>1</th>\n",
       "      <td>KAUPPAKATU</td>\n",
       "      <td>237</td>\n",
       "      <td>KAUPPAKATU</td>\n",
       "      <td>KAUPPAKATU</td>\n",
       "      <td>287</td>\n",
       "      <td>50</td>\n",
       "    </tr>\n",
       "    <tr>\n",
       "      <th>4</th>\n",
       "      <td>PUIJONLAAKSO</td>\n",
       "      <td>161</td>\n",
       "      <td>PUIJONLAAKSO</td>\n",
       "      <td>PUIJONLAAKSO</td>\n",
       "      <td>190</td>\n",
       "      <td>29</td>\n",
       "    </tr>\n",
       "    <tr>\n",
       "      <th>7</th>\n",
       "      <td>TASAVALLANKATU</td>\n",
       "      <td>144</td>\n",
       "      <td>TASAVALLANKATU</td>\n",
       "      <td>TASAVALLANKATU</td>\n",
       "      <td>156</td>\n",
       "      <td>12</td>\n",
       "    </tr>\n",
       "    <tr>\n",
       "      <th>9</th>\n",
       "      <td>PIRTTI</td>\n",
       "      <td>28</td>\n",
       "      <td>PIRTTI</td>\n",
       "      <td>PIRTTI</td>\n",
       "      <td>30</td>\n",
       "      <td>2</td>\n",
       "    </tr>\n",
       "  </tbody>\n",
       "</table>\n",
       "</div>"
      ],
      "text/plain": [
       "    location_from  no_of_bike_departured        location     location_to  \\\n",
       "1      KAUPPAKATU                    237      KAUPPAKATU      KAUPPAKATU   \n",
       "4    PUIJONLAAKSO                    161    PUIJONLAAKSO    PUIJONLAAKSO   \n",
       "7  TASAVALLANKATU                    144  TASAVALLANKATU  TASAVALLANKATU   \n",
       "9          PIRTTI                     28          PIRTTI          PIRTTI   \n",
       "\n",
       "   no_of_bike_arrived  net_bike_remain  \n",
       "1                 287               50  \n",
       "4                 190               29  \n",
       "7                 156               12  \n",
       "9                  30                2  "
      ]
     },
     "execution_count": 139,
     "metadata": {},
     "output_type": "execute_result"
    }
   ],
   "source": [
    "df_departured_arrived_count.loc[df_departured_arrived_count.net_bike_remain>0]"
   ]
  },
  {
   "cell_type": "code",
   "execution_count": 140,
   "id": "01f31c20",
   "metadata": {},
   "outputs": [
    {
     "data": {
      "text/plain": [
       "93"
      ]
     },
     "execution_count": 140,
     "metadata": {},
     "output_type": "execute_result"
    }
   ],
   "source": [
    "df_departured_arrived_count.loc[df_departured_arrived_count.net_bike_remain>0].net_bike_remain.sum()"
   ]
  },
  {
   "cell_type": "markdown",
   "id": "d050cf81",
   "metadata": {},
   "source": [
    "Percentage"
   ]
  },
  {
   "cell_type": "code",
   "execution_count": 148,
   "id": "632f0f6c",
   "metadata": {},
   "outputs": [
    {
     "data": {
      "text/plain": [
       "84.94623655913979"
      ]
     },
     "execution_count": 148,
     "metadata": {},
     "output_type": "execute_result"
    }
   ],
   "source": [
    "((50+29)/93)*100"
   ]
  },
  {
   "cell_type": "markdown",
   "id": "62955433",
   "metadata": {},
   "source": [
    "`SATAMA, KYS, TORI locations have combine deficit of around 80%`"
   ]
  },
  {
   "cell_type": "code",
   "execution_count": 147,
   "id": "38dbb332",
   "metadata": {},
   "outputs": [
    {
     "data": {
      "text/plain": [
       "0.7956989247311828"
      ]
     },
     "execution_count": 147,
     "metadata": {},
     "output_type": "execute_result"
    }
   ],
   "source": [
    "(37+19+18)/93"
   ]
  },
  {
   "cell_type": "markdown",
   "id": "e36f7e2b",
   "metadata": {},
   "source": [
    "`plots`"
   ]
  },
  {
   "cell_type": "markdown",
   "id": "41b50c66",
   "metadata": {},
   "source": [
    "Surplus Plot"
   ]
  },
  {
   "cell_type": "code",
   "execution_count": 144,
   "id": "31a2ecfa",
   "metadata": {},
   "outputs": [
    {
     "data": {
      "text/plain": [
       "<Axes: >"
      ]
     },
     "execution_count": 144,
     "metadata": {},
     "output_type": "execute_result"
    },
    {
     "data": {
      "image/png": "[encoded data removed]",
      "text/plain": [
       "<Figure size 640x480 with 1 Axes>"
      ]
     },
     "metadata": {},
     "output_type": "display_data"
    }
   ],
   "source": [
    "df_departured_arrived_count.loc[df_departured_arrived_count.net_bike_remain>0].net_bike_remain.plot.bar()"
   ]
  },
  {
   "cell_type": "markdown",
   "id": "0b4f511c",
   "metadata": {},
   "source": [
    "deficit plot"
   ]
  },
  {
   "cell_type": "code",
   "execution_count": 143,
   "id": "ef434642",
   "metadata": {},
   "outputs": [
    {
     "data": {
      "text/plain": [
       "<Axes: >"
      ]
     },
     "execution_count": 143,
     "metadata": {},
     "output_type": "execute_result"
    },
    {
     "data": {
      "image/png": "[encoded data removed]",
      "text/plain": [
       "<Figure size 640x480 with 1 Axes>"
      ]
     },
     "metadata": {},
     "output_type": "display_data"
    }
   ],
   "source": [
    "df_departured_arrived_count.loc[df_departured_arrived_count.net_bike_remain<0].net_bike_remain.plot.bar()"
   ]
  },
  {
   "cell_type": "markdown",
   "id": "db3c3afc",
   "metadata": {},
   "source": [
    "`Examine results and suggestions about bikes relocation`"
   ]
  },
  {
   "cell_type": "markdown",
   "id": "e1e42d39",
   "metadata": {},
   "source": [
    "It's essential to fine-tune the bike redistribution strategy to balance supply and demand. \n",
    "1. Among the locations, four show a net surplus in bike supply, with KAUPPAKATU and PUIJONLAAKSO having an impressive share of over 80%. Allocating additional resources to these locations could help redistribution of bikes.\n",
    "\n",
    "2. While bike deficit locations are spread across the loactions, the top three, SATAMA, KYS, and TORI, collectively account for roughly 80% of the deficit. Prioritizing these stations for bike redistribution can address the most significant deficits efficiently.\n",
    "\n",
    "3. Rather than concentrating efforts on nearly balanced stations, focusing on unbalanced stations can lead to cost savings and more effective management. Identifying and addressing the stations with the most significant imbalances can optimize the distribution of bikes and resources."
   ]
  },
  {
   "cell_type": "markdown",
   "id": "65ad4a8e",
   "metadata": {},
   "source": [
    "## Net Energy Gained"
   ]
  },
  {
   "cell_type": "markdown",
   "id": "6317078c",
   "metadata": {},
   "source": [
    "For each trip in the data set, calculate its net energy gain, which is defined as the difference between the energy collected and consumed during a trip. Visualise the distribution of this new variable. Make comments about how much battery levels tend to change during trips."
   ]
  },
  {
   "cell_type": "code",
   "execution_count": 149,
   "id": "99497a1f",
   "metadata": {},
   "outputs": [
    {
     "data": {
      "text/plain": [
       "Index(['ticket', 'cost', 'month', 'location_from', 'location_to', 'duration',\n",
       "       'distance', 'assistance', 'energy_used', 'energy_collected'],\n",
       "      dtype='object')"
      ]
     },
     "execution_count": 149,
     "metadata": {},
     "output_type": "execute_result"
    }
   ],
   "source": [
    "df.columns"
   ]
  },
  {
   "cell_type": "markdown",
   "id": "62c48e2f",
   "metadata": {},
   "source": [
    "`Plot the net energy gained`"
   ]
  },
  {
   "cell_type": "code",
   "execution_count": 153,
   "id": "ec239165",
   "metadata": {},
   "outputs": [],
   "source": [
    "df_energy_gained = df\n",
    "df_energy_gained['net_energy_gained'] = df['energy_collected'] - df['energy_used']"
   ]
  },
  {
   "cell_type": "code",
   "execution_count": 155,
   "id": "3b58198a",
   "metadata": {},
   "outputs": [],
   "source": [
    "# df_energy_gained.plot.scatter(x='distance',y='energy_used', c='assistance', colormap='brg')"
   ]
  },
  {
   "cell_type": "code",
   "execution_count": 156,
   "id": "f0908cae",
   "metadata": {},
   "outputs": [
    {
     "data": {
      "text/plain": [
       "<Axes: xlabel='distance', ylabel='net_energy_gained'>"
      ]
     },
     "execution_count": 156,
     "metadata": {},
     "output_type": "execute_result"
    },
    {
     "data": {
      "image/png": "[encoded data removed]",
      "text/plain": [
       "<Figure size 640x480 with 2 Axes>"
      ]
     },
     "metadata": {},
     "output_type": "display_data"
    }
   ],
   "source": [
    "df_energy_gained['assistance'] = df_energy_gained['assistance'].astype('category')\n",
    "df_energy_gained.plot.scatter(x='distance',y='net_energy_gained', c='assistance', colormap='brg')"
   ]
  },
  {
   "cell_type": "markdown",
   "id": "035754cd",
   "metadata": {},
   "source": [
    "`Plot the net energy trend for different assistance type`"
   ]
  },
  {
   "cell_type": "code",
   "execution_count": 157,
   "id": "cafff622",
   "metadata": {},
   "outputs": [
    {
     "data": {
      "text/plain": [
       "count    1629.000000\n",
       "mean      -13.043094\n",
       "std        14.882635\n",
       "min      -111.200000\n",
       "25%       -21.200000\n",
       "50%       -10.300000\n",
       "75%         0.000000\n",
       "max        16.200000\n",
       "Name: net_energy_gained, dtype: float64"
      ]
     },
     "execution_count": 157,
     "metadata": {},
     "output_type": "execute_result"
    }
   ],
   "source": [
    "df_energy_gained.loc[df_energy_gained.assistance==1.0].net_energy_gained.describe()"
   ]
  },
  {
   "cell_type": "code",
   "execution_count": 158,
   "id": "1ae2e057",
   "metadata": {},
   "outputs": [
    {
     "data": {
      "text/plain": [
       "-41.3"
      ]
     },
     "execution_count": 158,
     "metadata": {},
     "output_type": "execute_result"
    }
   ],
   "source": [
    "df_energy_gained.loc[df_energy_gained.assistance==1.0].net_energy_gained.quantile(0.05)"
   ]
  },
  {
   "cell_type": "markdown",
   "id": "c9333212",
   "metadata": {},
   "source": [
    "`When electric assistance used`"
   ]
  },
  {
   "cell_type": "code",
   "execution_count": 160,
   "id": "3e373269",
   "metadata": {},
   "outputs": [
    {
     "data": {
      "image/png": "[encoded data removed]",
      "text/plain": [
       "<Figure size 640x480 with 1 Axes>"
      ]
     },
     "metadata": {},
     "output_type": "display_data"
    }
   ],
   "source": [
    "# Create a scatter plot\n",
    "sns.scatterplot(x='distance',y='net_energy_gained', \n",
    "                data=df_energy_gained.loc[df_energy_gained.assistance==1.0], hue='assistance')\n",
    "\n",
    "# Add a best fit line\n",
    "sns.regplot(x='distance',y='net_energy_gained', \n",
    "            data=df_energy_gained.loc[df_energy_gained.assistance==1.0], \n",
    "            scatter=False, color='red', label='Best Fit Line')\n",
    "\n",
    "# Add labels and a legend\n",
    "# plt.xlabel('X-axis')\n",
    "# plt.ylabel('Y-axis')\n",
    "plt.legend()\n",
    "\n",
    "# Show the plot\n",
    "plt.show()"
   ]
  },
  {
   "cell_type": "markdown",
   "id": "b95e6aaa",
   "metadata": {},
   "source": [
    "`When electric assistance is not used`"
   ]
  },
  {
   "cell_type": "code",
   "execution_count": 161,
   "id": "ce9f9685",
   "metadata": {},
   "outputs": [
    {
     "data": {
      "image/png": "[encoded data removed]",
      "text/plain": [
       "<Figure size 640x480 with 1 Axes>"
      ]
     },
     "metadata": {},
     "output_type": "display_data"
    }
   ],
   "source": [
    "# Create a scatter plot\n",
    "sns.scatterplot(x='distance',y='net_energy_gained', \n",
    "                data=df_energy_gained.loc[df_energy_gained.assistance==0.0], hue='assistance')\n",
    "\n",
    "# Add a best fit line\n",
    "sns.regplot(x='distance',y='net_energy_gained', \n",
    "            data=df_energy_gained.loc[df_energy_gained.assistance==0.0], \n",
    "            scatter=False, color='red', label='Best Fit Line')\n",
    "\n",
    "# Add labels and a legend\n",
    "# plt.xlabel('X-axis')\n",
    "# plt.ylabel('Y-axis')\n",
    "plt.legend()\n",
    "\n",
    "# Show the plot\n",
    "plt.show()"
   ]
  },
  {
   "cell_type": "markdown",
   "id": "fccbc833",
   "metadata": {},
   "source": [
    "`comments about how much battery levels tend to change during trips`"
   ]
  },
  {
   "cell_type": "markdown",
   "id": "8ea0cbcc",
   "metadata": {},
   "source": [
    "1. The plot clearly shows that when electric assistance is set to 1, the net energy gained decreases proportionally with distance, while with assistance set to 0, the net energy gained increases proportionally with distance.\n",
    "\n",
    "2. The best-fit lines for both assistance types exhibit a linear trend, indicating a consistent relationship between distance and net energy gained.\n",
    "\n",
    "3. For longer trips exceeding 10,000 meters, around 100 watt-hours of net energy are required when assistance is set to 1.\n",
    "\n",
    "4. When assistance is set to 1, 75% of the trips necessitate 21 watt-hours of net energy, illustrating a common energy consumption pattern for this setting."
   ]
  },
  {
   "cell_type": "markdown",
   "id": "8eb02549",
   "metadata": {},
   "source": [
    "# Hypothesis testing"
   ]
  },
  {
   "cell_type": "markdown",
   "id": "ddb3cfe7",
   "metadata": {},
   "source": [
    "## Travel Time"
   ]
  },
  {
   "cell_type": "markdown",
   "id": "7e5568e5",
   "metadata": {},
   "source": [
    "Is there statistical evidence to claim that the travel times tend to be shorter or longer for the single than for the season ticket type. Justify your design choices, interpret the results and use your discoveries to make conclusions about customers."
   ]
  },
  {
   "cell_type": "code",
   "execution_count": 163,
   "id": "4d20e9a3",
   "metadata": {},
   "outputs": [
    {
     "data": {
      "text/plain": [
       "((967,), (553,))"
      ]
     },
     "execution_count": 163,
     "metadata": {},
     "output_type": "execute_result"
    }
   ],
   "source": [
    "df.loc[df.ticket=='single'].duration.shape, df.loc[df.ticket=='season'].duration.shape"
   ]
  },
  {
   "cell_type": "markdown",
   "id": "75235e74",
   "metadata": {},
   "source": [
    "`Duration variable data is not normally distributed for single and season ticket type`"
   ]
  },
  {
   "cell_type": "markdown",
   "id": "fed0ee32",
   "metadata": {},
   "source": [
    "shapiro test"
   ]
  },
  {
   "cell_type": "code",
   "execution_count": 164,
   "id": "84a6fb79",
   "metadata": {},
   "outputs": [
    {
     "data": {
      "text/plain": [
       "(ShapiroResult(statistic=0.4340983033180237, pvalue=0.0),\n",
       " ShapiroResult(statistic=0.9431720972061157, pvalue=1.0356635254255009e-13))"
      ]
     },
     "execution_count": 164,
     "metadata": {},
     "output_type": "execute_result"
    }
   ],
   "source": [
    "(stats.shapiro(df.loc[df.ticket=='single'].duration), \n",
    "stats.shapiro(df.loc[df.ticket=='season'].duration))"
   ]
  },
  {
   "cell_type": "markdown",
   "id": "80ea24ca",
   "metadata": {},
   "source": [
    "`Given that the data is unpaired and not normally distributed, I have opted to use the Mann-Whitney U test for my analysis.`"
   ]
  },
  {
   "cell_type": "code",
   "execution_count": 165,
   "id": "fd7ecc3e",
   "metadata": {},
   "outputs": [
    {
     "data": {
      "text/plain": [
       "MannwhitneyuResult(statistic=276909.0, pvalue=0.24689478669078846)"
      ]
     },
     "execution_count": 165,
     "metadata": {},
     "output_type": "execute_result"
    }
   ],
   "source": [
    "stats.mannwhitneyu(df.loc[df.ticket=='single'].duration, df.loc[df.ticket=='season'].duration)"
   ]
  },
  {
   "cell_type": "markdown",
   "id": "4107ef27",
   "metadata": {},
   "source": [
    "the p-value is greater than 0.05, it suggests that there is not enough evidence to reject the null hypothesis, indicating that there is no significant difference between the two groups being compared."
   ]
  },
  {
   "cell_type": "markdown",
   "id": "257e0321",
   "metadata": {},
   "source": [
    "`Despite the data in these groups not following a normal distribution, we can still utilize a t-test to compare their means. Sample size is big enough.`"
   ]
  },
  {
   "cell_type": "code",
   "execution_count": 166,
   "id": "38ab86f0",
   "metadata": {},
   "outputs": [
    {
     "data": {
      "text/plain": [
       "TtestResult(statistic=2.4207919328251104, pvalue=0.01560340486847036, df=1518.0)"
      ]
     },
     "execution_count": 166,
     "metadata": {},
     "output_type": "execute_result"
    }
   ],
   "source": [
    "stats.ttest_ind(df.loc[df.ticket=='single'].duration, df.loc[df.ticket=='season'].duration)"
   ]
  },
  {
   "cell_type": "markdown",
   "id": "cd727bb6",
   "metadata": {},
   "source": [
    "In unpaired t-tests, a p-value of 0.015 indicates that there is a statistically significant difference between the means of the two groups being compared."
   ]
  },
  {
   "cell_type": "markdown",
   "id": "20a0021c",
   "metadata": {},
   "source": [
    "`Population Mean`"
   ]
  },
  {
   "cell_type": "code",
   "execution_count": 168,
   "id": "1385f0c8",
   "metadata": {},
   "outputs": [
    {
     "data": {
      "text/plain": [
       "(695.2854188210962, 589.4448462929475)"
      ]
     },
     "execution_count": 168,
     "metadata": {},
     "output_type": "execute_result"
    }
   ],
   "source": [
    "df.loc[df.ticket=='single'].duration.mean(), df.loc[df.ticket=='season'].duration.mean()"
   ]
  },
  {
   "cell_type": "markdown",
   "id": "4a3ad1f6",
   "metadata": {},
   "source": [
    "`Observation`"
   ]
  },
  {
   "cell_type": "markdown",
   "id": "aaa15262",
   "metadata": {},
   "source": [
    "Using a t-test, we found that the mean trip duration for single ticket type customers is significantly different from that of season ticket type customers. Specifically, single ticket type customers tend to have longer trips compared to season ticket type customers when we compare population mean. This suggests that the two customer groups may have varying travel behaviors, with single ticket customers opting for extended trips in comparison to their season ticket counterparts."
   ]
  },
  {
   "cell_type": "markdown",
   "id": "5aad7cd3",
   "metadata": {},
   "source": [
    "## Correlation between Energy and Distance"
   ]
  },
  {
   "cell_type": "markdown",
   "id": "c61efdcf",
   "metadata": {},
   "source": [
    "Is there statistical evidence to claim that the travel distance positively correlates with the average rate at which electricity is consumed during the trip? Justify your design choices, interpret the results and use your discoveries to make conclusions about customers."
   ]
  },
  {
   "cell_type": "markdown",
   "id": "5e4f2ac7",
   "metadata": {},
   "source": [
    "`Data is not normally distributed`"
   ]
  },
  {
   "cell_type": "markdown",
   "id": "48e1c8dd",
   "metadata": {},
   "source": [
    "Shapiro test"
   ]
  },
  {
   "cell_type": "code",
   "execution_count": 169,
   "id": "1e89cc4e",
   "metadata": {},
   "outputs": [
    {
     "data": {
      "text/plain": [
       "(ShapiroResult(statistic=0.8667731285095215, pvalue=2.1215346652683756e-36),\n",
       " ShapiroResult(statistic=0.9004752039909363, pvalue=1.812164425620304e-32))"
      ]
     },
     "execution_count": 169,
     "metadata": {},
     "output_type": "execute_result"
    }
   ],
   "source": [
    "(stats.shapiro(df_energy_gained.distance), \n",
    "stats.shapiro(df_energy_gained.net_energy_gained))"
   ]
  },
  {
   "cell_type": "markdown",
   "id": "dd6303db",
   "metadata": {},
   "source": [
    "`Average rate at which energy is consumered is equal to negative of net energy gained`"
   ]
  },
  {
   "cell_type": "code",
   "execution_count": 179,
   "id": "919d8869",
   "metadata": {},
   "outputs": [],
   "source": [
    "df_energy_consumed = df\n",
    "df_energy_consumed['net_energy_consumed'] = -df_energy_gained['net_energy_gained']"
   ]
  },
  {
   "cell_type": "markdown",
   "id": "7058d00b",
   "metadata": {},
   "source": [
    "`Variables are not normal. So, I have choose spearman correlation`"
   ]
  },
  {
   "cell_type": "code",
   "execution_count": 180,
   "id": "1e0c7581",
   "metadata": {},
   "outputs": [
    {
     "data": {
      "text/html": [
       "<div>\n",
       "<style scoped>\n",
       "    .dataframe tbody tr th:only-of-type {\n",
       "        vertical-align: middle;\n",
       "    }\n",
       "\n",
       "    .dataframe tbody tr th {\n",
       "        vertical-align: top;\n",
       "    }\n",
       "\n",
       "    .dataframe thead th {\n",
       "        text-align: right;\n",
       "    }\n",
       "</style>\n",
       "<table border=\"1\" class=\"dataframe\">\n",
       "  <thead>\n",
       "    <tr style=\"text-align: right;\">\n",
       "      <th></th>\n",
       "      <th>distance</th>\n",
       "      <th>net_energy_consumed</th>\n",
       "    </tr>\n",
       "  </thead>\n",
       "  <tbody>\n",
       "    <tr>\n",
       "      <th>distance</th>\n",
       "      <td>1.000000</td>\n",
       "      <td>0.699613</td>\n",
       "    </tr>\n",
       "    <tr>\n",
       "      <th>net_energy_consumed</th>\n",
       "      <td>0.699613</td>\n",
       "      <td>1.000000</td>\n",
       "    </tr>\n",
       "  </tbody>\n",
       "</table>\n",
       "</div>"
      ],
      "text/plain": [
       "                     distance  net_energy_consumed\n",
       "distance             1.000000             0.699613\n",
       "net_energy_consumed  0.699613             1.000000"
      ]
     },
     "execution_count": 180,
     "metadata": {},
     "output_type": "execute_result"
    }
   ],
   "source": [
    "df_energy_gained[['distance', 'net_energy_consumed']].corr(method='spearman')"
   ]
  },
  {
   "cell_type": "markdown",
   "id": "5ab885b8",
   "metadata": {},
   "source": [
    "`Observation`"
   ]
  },
  {
   "cell_type": "markdown",
   "id": "b7fb2c83",
   "metadata": {},
   "source": [
    "Distance and net energy consumed exhibit a positive correlation, indicating that as the bike travels a greater distance, it tends to consume more energy. In other words, longer trips result in higher energy consumption by the bike. This correlation underscores the relationship between the distance traveled and the energy expenditure, which can be valuable information for managing and maintaining the bike fleet effectively."
   ]
  },
  {
   "cell_type": "markdown",
   "id": "b01da709",
   "metadata": {},
   "source": [
    " ## Savonia Ticket Type"
   ]
  },
  {
   "cell_type": "markdown",
   "id": "7e79bb36",
   "metadata": {},
   "source": [
    "Is there statistical evidence to claim that the savonia ticket type differs from the others with respect to how often the electric assistance is used? Justify your design choices, interpret the results and use your discoveries to make conclusions about customers."
   ]
  },
  {
   "cell_type": "markdown",
   "id": "099fd765",
   "metadata": {},
   "source": [
    "`Seperating Savonia ticket type from others`"
   ]
  },
  {
   "cell_type": "code",
   "execution_count": 181,
   "id": "d448b5e8",
   "metadata": {},
   "outputs": [],
   "source": [
    "savonia_assistance = df.loc[df.ticket=='savonia'].assistance\n",
    "season_assistance = df.loc[df.ticket=='season'].assistance\n",
    "single_assistance = df.loc[df.ticket=='single'].assistance\n",
    "other_assistance = df.loc[df.ticket!='savonia'].assistance"
   ]
  },
  {
   "cell_type": "code",
   "execution_count": 194,
   "id": "d8a1cbcd",
   "metadata": {},
   "outputs": [],
   "source": [
    "df_assistance_hypothesis = df\n",
    "df_assistance_hypothesis['new_ticket_cat'] = df.apply(lambda x: 'savonia' if x['ticket']=='savonia' else 'other', \n",
    "                                                          axis=1)"
   ]
  },
  {
   "cell_type": "markdown",
   "id": "b93fccac",
   "metadata": {},
   "source": [
    "`Crosstab`"
   ]
  },
  {
   "cell_type": "code",
   "execution_count": 195,
   "id": "70e6b277",
   "metadata": {},
   "outputs": [
    {
     "data": {
      "text/plain": [
       "Index(['ticket', 'cost', 'month', 'location_from', 'location_to', 'duration',\n",
       "       'distance', 'assistance', 'energy_used', 'energy_collected',\n",
       "       'net_energy_gained', 'net_energy_consumed', 'new_ticket_cat',\n",
       "       'new_assistance_cat'],\n",
       "      dtype='object')"
      ]
     },
     "execution_count": 195,
     "metadata": {},
     "output_type": "execute_result"
    }
   ],
   "source": [
    "df.columns"
   ]
  },
  {
   "cell_type": "markdown",
   "id": "88c84fe1",
   "metadata": {},
   "source": [
    "`Comparing Savonia with others as combine group`"
   ]
  },
  {
   "cell_type": "code",
   "execution_count": 197,
   "id": "c2a33455",
   "metadata": {},
   "outputs": [
    {
     "data": {
      "text/html": [
       "<div>\n",
       "<style scoped>\n",
       "    .dataframe tbody tr th:only-of-type {\n",
       "        vertical-align: middle;\n",
       "    }\n",
       "\n",
       "    .dataframe tbody tr th {\n",
       "        vertical-align: top;\n",
       "    }\n",
       "\n",
       "    .dataframe thead th {\n",
       "        text-align: right;\n",
       "    }\n",
       "</style>\n",
       "<table border=\"1\" class=\"dataframe\">\n",
       "  <thead>\n",
       "    <tr style=\"text-align: right;\">\n",
       "      <th>assistance</th>\n",
       "      <th>0</th>\n",
       "      <th>1</th>\n",
       "    </tr>\n",
       "    <tr>\n",
       "      <th>new_ticket_cat</th>\n",
       "      <th></th>\n",
       "      <th></th>\n",
       "    </tr>\n",
       "  </thead>\n",
       "  <tbody>\n",
       "    <tr>\n",
       "      <th>other</th>\n",
       "      <td>109</td>\n",
       "      <td>1411</td>\n",
       "    </tr>\n",
       "    <tr>\n",
       "      <th>savonia</th>\n",
       "      <td>36</td>\n",
       "      <td>218</td>\n",
       "    </tr>\n",
       "  </tbody>\n",
       "</table>\n",
       "</div>"
      ],
      "text/plain": [
       "assistance        0     1\n",
       "new_ticket_cat           \n",
       "other           109  1411\n",
       "savonia          36   218"
      ]
     },
     "execution_count": 197,
     "metadata": {},
     "output_type": "execute_result"
    }
   ],
   "source": [
    "crosstab = pd.crosstab(df.new_ticket_cat, \n",
    "                       df.assistance)\n",
    "crosstab"
   ]
  },
  {
   "cell_type": "markdown",
   "id": "2e63b43c",
   "metadata": {},
   "source": [
    "`I am opting for the Chi-squared test because electric assistance is a categorical variable.`"
   ]
  },
  {
   "cell_type": "code",
   "execution_count": 198,
   "id": "a922fcb9",
   "metadata": {},
   "outputs": [
    {
     "data": {
      "text/plain": [
       "Chi2ContingencyResult(statistic=13.299366616912527, pvalue=0.0002654957911914316, dof=1, expected_freq=array([[ 124.23900789, 1395.76099211],\n",
       "       [  20.76099211,  233.23900789]]))"
      ]
     },
     "execution_count": 198,
     "metadata": {},
     "output_type": "execute_result"
    }
   ],
   "source": [
    "chi2_contingency(crosstab)"
   ]
  },
  {
   "cell_type": "markdown",
   "id": "7c726e18",
   "metadata": {},
   "source": [
    "If p-value < 0.05: The variables are dependent, and there is a statistically significant relationship between them."
   ]
  },
  {
   "cell_type": "markdown",
   "id": "1a161eb3",
   "metadata": {},
   "source": [
    "`Observation`"
   ]
  },
  {
   "cell_type": "markdown",
   "id": "8630ab32",
   "metadata": {},
   "source": [
    "It appears that the Savonia ticket type is dependent on other ticket types (Single and Season) in terms of electric assistance usage. All ticket types seem to follow a similar pattern regarding electric assistance. This suggests that the choice of electric assistance is not strongly associated with the specific ticket type."
   ]
  },
  {
   "cell_type": "markdown",
   "id": "5643be32",
   "metadata": {},
   "source": [
    "# Future Work"
   ]
  },
  {
   "cell_type": "markdown",
   "id": "249742c7",
   "metadata": {},
   "source": [
    "Point out one or more problems in the questions asked or the approaches used above. Propose changes to address the problem(s). Explain how the changes would improve the statistical analysis."
   ]
  },
  {
   "cell_type": "markdown",
   "id": "d8734d5a",
   "metadata": {},
   "source": [
    "`Problem and Solution`"
   ]
  },
  {
   "cell_type": "markdown",
   "id": "d44e21bd",
   "metadata": {},
   "source": [
    "1. In Section 4.1, when we compare the fee paid per ticket, it can give a misleading impression of customer value. While some ticket types may have a high total paid fee, this approach does not show how valuable each trip is for different ticket types. To gain a more accurate understanding of customer value, it's essential to consider the average fee paid per trip for each ticket type, which provides insights into the significance of individual trips within each category. This way, we can better evaluate and compare the value of customers from different ticket types.\n",
    "\n",
    "2. I have observed that the energy consumed per trip is correlated with the fee paid by customers. It's important to note that the total fee collected does not necessarily represent the actual profit. To gain a better understanding of how to manage the bike-sharing system and make real-life decisions, it's crucial to consider factors like the net profit."
   ]
  },
  {
   "cell_type": "markdown",
   "id": "c998d98a",
   "metadata": {},
   "source": []
  },
  {
   "cell_type": "markdown",
   "id": "77387529",
   "metadata": {},
   "source": [
    "# Rough Work: Analysis"
   ]
  },
  {
   "cell_type": "code",
   "execution_count": 64,
   "id": "5afeac71",
   "metadata": {},
   "outputs": [],
   "source": [
    "df_group_merge['total_energy_used'] = df.groupby('ticket')['cost'].sum().reset_index(name='total_energy')['total_energy']"
   ]
  },
  {
   "cell_type": "code",
   "execution_count": 65,
   "id": "daa175c5",
   "metadata": {},
   "outputs": [],
   "source": [
    "df_group_merge['energy_per_trip'] = df_group_merge['total_energy_used']/df_group_merge['trip'] "
   ]
  },
  {
   "cell_type": "markdown",
   "id": "b1438ea1",
   "metadata": {},
   "source": [
    "`Energy per trip vs ticket`"
   ]
  },
  {
   "cell_type": "code",
   "execution_count": 66,
   "id": "84dcb29e",
   "metadata": {
    "scrolled": false
   },
   "outputs": [
    {
     "data": {
      "text/plain": [
       "<Axes: xlabel='ticket'>"
      ]
     },
     "execution_count": 66,
     "metadata": {},
     "output_type": "execute_result"
    },
    {
     "data": {
      "image/png": "[encoded data removed]",
      "text/plain": [
       "<Figure size 640x480 with 1 Axes>"
      ]
     },
     "metadata": {},
     "output_type": "display_data"
    }
   ],
   "source": [
    "df_group_merge.plot.bar('ticket', 'energy_per_trip')"
   ]
  },
  {
   "cell_type": "code",
   "execution_count": 139,
   "id": "bf8d3b40",
   "metadata": {},
   "outputs": [
    {
     "data": {
      "text/plain": [
       "<Axes: xlabel='distance', ylabel='cost'>"
      ]
     },
     "execution_count": 139,
     "metadata": {},
     "output_type": "execute_result"
    },
    {
     "data": {
      "image/png": "[encoded data removed]",
      "text/plain": [
       "<Figure size 640x480 with 2 Axes>"
      ]
     },
     "metadata": {},
     "output_type": "display_data"
    }
   ],
   "source": [
    "df['ticket'] = df['ticket'].astype('category')\n",
    "df.loc[df['cost']<100].plot.scatter(x='distance',y='cost', c='ticket', colormap='brg')"
   ]
  },
  {
   "cell_type": "code",
   "execution_count": 140,
   "id": "b54a5012",
   "metadata": {},
   "outputs": [
    {
     "data": {
      "text/plain": [
       "<Axes: xlabel='ticket', ylabel='duration'>"
      ]
     },
     "execution_count": 140,
     "metadata": {},
     "output_type": "execute_result"
    },
    {
     "data": {
      "image/png": "[encoded data removed]",
      "text/plain": [
       "<Figure size 640x480 with 2 Axes>"
      ]
     },
     "metadata": {},
     "output_type": "display_data"
    }
   ],
   "source": [
    "df.loc[df['cost']<100].plot.scatter(x='ticket',y='duration', c='ticket', colormap='brg')"
   ]
  },
  {
   "cell_type": "code",
   "execution_count": 108,
   "id": "404331cd",
   "metadata": {},
   "outputs": [
    {
     "data": {
      "text/plain": [
       "<Axes: xlabel='cost', ylabel='net_energy_gained'>"
      ]
     },
     "execution_count": 108,
     "metadata": {},
     "output_type": "execute_result"
    },
    {
     "data": {
      "image/png": "[encoded data removed]",
      "text/plain": [
       "<Figure size 640x480 with 2 Axes>"
      ]
     },
     "metadata": {},
     "output_type": "display_data"
    }
   ],
   "source": [
    "df_energy_gained.loc[df_energy_gained.cost<50].plot.scatter(x='cost',\n",
    "                                                            y='net_energy_gained', \n",
    "                                                            c='assistance', \n",
    "                                                            colormap='brg')"
   ]
  },
  {
   "cell_type": "code",
   "execution_count": 44,
   "id": "4aebc92c",
   "metadata": {},
   "outputs": [],
   "source": [
    "df_distance_duration_scale = pd.DataFrame(preprocessing.normalize(df[['distance', 'duration']].values), \n",
    "                                          columns=['distance', 'duration'])"
   ]
  },
  {
   "cell_type": "code",
   "execution_count": 45,
   "id": "2443ba72",
   "metadata": {},
   "outputs": [],
   "source": [
    "# df_distance_duration_scale"
   ]
  },
  {
   "cell_type": "code",
   "execution_count": 46,
   "id": "34ebe244",
   "metadata": {},
   "outputs": [
    {
     "data": {
      "text/plain": [
       "<Axes: xlabel='distance', ylabel='duration'>"
      ]
     },
     "execution_count": 46,
     "metadata": {},
     "output_type": "execute_result"
    },
    {
     "data": {
      "image/png": "[encoded data removed]",
      "text/plain": [
       "<Figure size 640x480 with 1 Axes>"
      ]
     },
     "metadata": {},
     "output_type": "display_data"
    }
   ],
   "source": [
    "df_distance_duration_scale.plot.scatter(x='distance',y='duration')"
   ]
  },
  {
   "cell_type": "code",
   "execution_count": 47,
   "id": "9170cc46",
   "metadata": {},
   "outputs": [
    {
     "data": {
      "text/plain": [
       "<Axes: xlabel='distance', ylabel='duration'>"
      ]
     },
     "execution_count": 47,
     "metadata": {},
     "output_type": "execute_result"
    },
    {
     "data": {
      "image/png": "[encoded data removed]",
      "text/plain": [
       "<Figure size 640x480 with 1 Axes>"
      ]
     },
     "metadata": {},
     "output_type": "display_data"
    }
   ],
   "source": [
    "df.plot.scatter(x='distance',y='duration')"
   ]
  },
  {
   "cell_type": "code",
   "execution_count": 49,
   "id": "5e2b3e15",
   "metadata": {},
   "outputs": [
    {
     "data": {
      "text/plain": [
       "<Axes: xlabel='cost', ylabel='energy_used'>"
      ]
     },
     "execution_count": 49,
     "metadata": {},
     "output_type": "execute_result"
    },
    {
     "data": {
      "image/png": "[encoded data removed]",
      "text/plain": [
       "<Figure size 640x480 with 1 Axes>"
      ]
     },
     "metadata": {},
     "output_type": "display_data"
    }
   ],
   "source": [
    "df.plot.scatter(x='cost',y='energy_used')"
   ]
  },
  {
   "cell_type": "code",
   "execution_count": 50,
   "id": "7e832681",
   "metadata": {},
   "outputs": [
    {
     "data": {
      "text/plain": [
       "<Axes: xlabel='cost', ylabel='energy_used'>"
      ]
     },
     "execution_count": 50,
     "metadata": {},
     "output_type": "execute_result"
    },
    {
     "data": {
      "image/png": "[encoded data removed]",
      "text/plain": [
       "<Figure size 640x480 with 1 Axes>"
      ]
     },
     "metadata": {},
     "output_type": "display_data"
    }
   ],
   "source": [
    "df.loc[df['cost']<50].plot.scatter(x='cost',y='energy_used')"
   ]
  }
 ],
 "metadata": {
  "kernelspec": {
   "display_name": "statics_env",
   "language": "python",
   "name": "statics_env"
  },
  "language_info": {
   "codemirror_mode": {
    "name": "ipython",
    "version": 3
   },
   "file_extension": ".py",
   "mimetype": "text/x-python",
   "name": "python",
   "nbconvert_exporter": "python",
   "pygments_lexer": "ipython3",
   "version": "3.10.9"
  },
  "toc": {
   "base_numbering": 1,
   "nav_menu": {},
   "number_sections": true,
   "sideBar": true,
   "skip_h1_title": false,
   "title_cell": "Table of Contents",
   "title_sidebar": "Contents",
   "toc_cell": false,
   "toc_position": {
    "height": "calc(100% - 180px)",
    "left": "10px",
    "top": "150px",
    "width": "190px"
   },
   "toc_section_display": true,
   "toc_window_display": true
  }
 },
 "nbformat": 4,
 "nbformat_minor": 5
}
